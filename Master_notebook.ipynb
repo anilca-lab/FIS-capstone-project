{
 "cells": [
  {
   "cell_type": "markdown",
   "metadata": {},
   "source": [
    "# Occupations and Skills in Demand"
   ]
  },
  {
   "cell_type": "markdown",
   "metadata": {},
   "source": [
    "## Objective\n",
    "This project aims to develop a platform to continuously monitor online job vacancies across the U.S. and predict occupations and skills in demand by the employers and different industries. Such a platform would enhance the existing labor market indicators by providing a deeper and higher-frequency monitoring of labor demand. As a result, it would inform labor, education, and immigration policies and activities to develop and maintain a skilled workforce, which would, in the long run, contribute to income mobility and equality. \n",
    "\n",
    "Three organizations have developed similar platforms. The Conference Board uses online job postings from various portals and companies to publish monthly national and state-level vacancy indicators at the 2-digit Standard Occupational Classification (SOC) level. Florida Department of Economic Opportunity is one of the users of these indicators. A technical note that describes the Conference Board platform is available __[here](https://www.conference-board.org/pdf_free/press/2018%20HWOL%20Technical%20Note8.pdf)__. The Center for Urban Research at the City University of New York has designed a real-time labor market information system that scrapes private and public job boards on a daily basis and stores the data in searchable databases. A brief desciption of this system is available __[here](https://gc.cuny.edu/lmis/research/real_time#menu)__. __[The New Jersey state government](https://careerconnections.nj.gov/careerconnections/prepare/skills/demand/demand_occupations_list_methodology.shtml)__ is one of the users of this system. The Burning Glass Technologies delivers real-time job vacancies data and planning tools that inform careers, define academic programs, and shape workforces. A description of their offerings is __[here](https://www.burning-glass.com/research-project/skills-taxonomy/)__. The World Bank and the Government of Malaysia used their offerings to monitor in-demand occupations and skills in Malaysia."
   ]
  },
  {
   "cell_type": "markdown",
   "metadata": {},
   "source": [
    "## Methodology\n",
    "The project will follow a phased approach as outlined below:\n",
    "1. Occupational classification for DC metropolitan area with a single job portal\n",
    "2. Skills identification and clustering for DC metropolitan area with a single job portal\n",
    "3. Coverage of other metropolitan areas\n",
    "4. Coverage of other job portals\n",
    "\n",
    "Phase 1 will be based on job postings scraped from Indeed. Initially, job titles will be matched to 6-digit SOC titles using rules. For the unmatched job titles, a look-alike algorithm will be implemented using the job descriptions and SOC descriptions. Quality assurance will be done through the random selection of a small subset of the data and its manual labeling. Upon successful completion of this step, an algorithm will be developed for daily scraping of the data and its storage. A set of key indicators will also be designed together with their visualization. Phase 1 will be completed by January 24, 2020. \n",
    "\n",
    "The scope for Phase 2 is still open. One option is to cluster the job descriptions along several dimensions measuring various aspects of knowledge and skills. The second option is to match the occupations identified with phase 1 to different skills using __[ONet's existing classification](https://www.onetcenter.org/dataCollection.html)__.   "
   ]
  },
  {
   "cell_type": "markdown",
   "metadata": {},
   "source": [
    "## Data Cleaning\n",
    "A preliminary round of data collection has already been completed. This data includes job postings from Indeed for Washington, DC. The data fields are date of collection, location, job title, company, job description, and salary (if provided)."
   ]
  },
  {
   "cell_type": "code",
   "execution_count": 3,
   "metadata": {},
   "outputs": [],
   "source": [
    "%run data_cleaning"
   ]
  },
  {
   "cell_type": "code",
   "execution_count": 4,
   "metadata": {},
   "outputs": [],
   "source": [
    "soc_titles_df = clean_soc_titles()"
   ]
  },
  {
   "cell_type": "code",
   "execution_count": 5,
   "metadata": {},
   "outputs": [
    {
     "data": {
      "text/html": [
       "<div>\n",
       "<style scoped>\n",
       "    .dataframe tbody tr th:only-of-type {\n",
       "        vertical-align: middle;\n",
       "    }\n",
       "\n",
       "    .dataframe tbody tr th {\n",
       "        vertical-align: top;\n",
       "    }\n",
       "\n",
       "    .dataframe thead th {\n",
       "        text-align: right;\n",
       "    }\n",
       "</style>\n",
       "<table border=\"1\" class=\"dataframe\">\n",
       "  <thead>\n",
       "    <tr style=\"text-align: right;\">\n",
       "      <th></th>\n",
       "      <th>title</th>\n",
       "      <th>soc_6</th>\n",
       "    </tr>\n",
       "  </thead>\n",
       "  <tbody>\n",
       "    <tr>\n",
       "      <td>0</td>\n",
       "      <td>CEO</td>\n",
       "      <td>11-1011</td>\n",
       "    </tr>\n",
       "    <tr>\n",
       "      <td>1</td>\n",
       "      <td>Chief Executive Officer</td>\n",
       "      <td>11-1011</td>\n",
       "    </tr>\n",
       "    <tr>\n",
       "      <td>2</td>\n",
       "      <td>Chief Operating Officer</td>\n",
       "      <td>11-1011</td>\n",
       "    </tr>\n",
       "    <tr>\n",
       "      <td>3</td>\n",
       "      <td>Commissioner of Internal Revenue</td>\n",
       "      <td>11-1011</td>\n",
       "    </tr>\n",
       "    <tr>\n",
       "      <td>4</td>\n",
       "      <td>COO</td>\n",
       "      <td>11-1011</td>\n",
       "    </tr>\n",
       "  </tbody>\n",
       "</table>\n",
       "</div>"
      ],
      "text/plain": [
       "                              title    soc_6\n",
       "0                               CEO  11-1011\n",
       "1          Chief Executive Officer   11-1011\n",
       "2          Chief Operating Officer   11-1011\n",
       "3  Commissioner of Internal Revenue  11-1011\n",
       "4                               COO  11-1011"
      ]
     },
     "execution_count": 5,
     "metadata": {},
     "output_type": "execute_result"
    }
   ],
   "source": [
    "soc_titles_df.head()"
   ]
  },
  {
   "cell_type": "code",
   "execution_count": 6,
   "metadata": {},
   "outputs": [
    {
     "name": "stdout",
     "output_type": "stream",
     "text": [
      "<class 'pandas.core.frame.DataFrame'>\n",
      "Int64Index: 40221 entries, 0 to 64699\n",
      "Data columns (total 2 columns):\n",
      "title    40221 non-null object\n",
      "soc_6    40221 non-null object\n",
      "dtypes: object(2)\n",
      "memory usage: 942.7+ KB\n"
     ]
    }
   ],
   "source": [
    "soc_titles_df.info()"
   ]
  },
  {
   "cell_type": "code",
   "execution_count": 7,
   "metadata": {},
   "outputs": [],
   "source": [
    "tokenized_soc_titles_list = [word_tokenize(title) for title in soc_titles_df.title]"
   ]
  },
  {
   "cell_type": "code",
   "execution_count": 8,
   "metadata": {},
   "outputs": [
    {
     "data": {
      "text/plain": [
       "[['CEO'],\n",
       " ['Chief', 'Executive', 'Officer'],\n",
       " ['Chief', 'Operating', 'Officer'],\n",
       " ['Commissioner', 'of', 'Internal', 'Revenue'],\n",
       " ['COO']]"
      ]
     },
     "execution_count": 8,
     "metadata": {},
     "output_type": "execute_result"
    }
   ],
   "source": [
    "tokenized_soc_titles_list[:5]"
   ]
  },
  {
   "cell_type": "code",
   "execution_count": 9,
   "metadata": {},
   "outputs": [],
   "source": [
    "stopwords_list = create_stop_words()"
   ]
  },
  {
   "cell_type": "code",
   "execution_count": 10,
   "metadata": {},
   "outputs": [
    {
     "data": {
      "text/plain": [
       "['i', 'me', 'my', 'myself', 'we', 'our', 'ours', 'ourselves', 'you', \"you're\"]"
      ]
     },
     "execution_count": 10,
     "metadata": {},
     "output_type": "execute_result"
    }
   ],
   "source": [
    "stopwords_list[:10]"
   ]
  },
  {
   "cell_type": "code",
   "execution_count": 11,
   "metadata": {},
   "outputs": [
    {
     "data": {
      "text/plain": [
       "['aurora',\n",
       " 'elmira',\n",
       " 'sedalia',\n",
       " 'sterling',\n",
       " 'albertville',\n",
       " 'bemidji',\n",
       " 'menomonie',\n",
       " 'carroll',\n",
       " 'indiana',\n",
       " 'sacramento']"
      ]
     },
     "execution_count": 11,
     "metadata": {},
     "output_type": "execute_result"
    }
   ],
   "source": [
    "stopwords_list[-10:]"
   ]
  },
  {
   "cell_type": "code",
   "execution_count": 12,
   "metadata": {},
   "outputs": [],
   "source": [
    "stopped_tokenized_soc_titles_list = stop_tokenized_titles(tokenized_soc_titles_list, stopwords_list)"
   ]
  },
  {
   "cell_type": "code",
   "execution_count": 13,
   "metadata": {},
   "outputs": [
    {
     "data": {
      "text/plain": [
       "[['ceo'],\n",
       " ['chief', 'executive', 'officer'],\n",
       " ['chief', 'operating', 'officer'],\n",
       " ['commissioner', 'internal', 'revenue'],\n",
       " ['coo']]"
      ]
     },
     "execution_count": 13,
     "metadata": {},
     "output_type": "execute_result"
    }
   ],
   "source": [
    "stopped_tokenized_soc_titles_list[:5]"
   ]
  },
  {
   "cell_type": "code",
   "execution_count": 14,
   "metadata": {},
   "outputs": [
    {
     "data": {
      "text/plain": [
       "40221"
      ]
     },
     "execution_count": 14,
     "metadata": {},
     "output_type": "execute_result"
    }
   ],
   "source": [
    "len(stopped_tokenized_soc_titles_list)"
   ]
  },
  {
   "cell_type": "code",
   "execution_count": 15,
   "metadata": {},
   "outputs": [],
   "source": [
    "indeed_titles_df = pd.read_csv('47900_training.csv').title"
   ]
  },
  {
   "cell_type": "code",
   "execution_count": 16,
   "metadata": {},
   "outputs": [
    {
     "data": {
      "text/plain": [
       "(8835,)"
      ]
     },
     "execution_count": 16,
     "metadata": {},
     "output_type": "execute_result"
    }
   ],
   "source": [
    "indeed_titles_df.shape"
   ]
  },
  {
   "cell_type": "code",
   "execution_count": 17,
   "metadata": {},
   "outputs": [],
   "source": [
    "indeed_titles_df = indeed_titles_df.dropna()"
   ]
  },
  {
   "cell_type": "code",
   "execution_count": 18,
   "metadata": {},
   "outputs": [
    {
     "data": {
      "text/plain": [
       "(8834,)"
      ]
     },
     "execution_count": 18,
     "metadata": {},
     "output_type": "execute_result"
    }
   ],
   "source": [
    "indeed_titles_df.shape"
   ]
  },
  {
   "cell_type": "code",
   "execution_count": 19,
   "metadata": {},
   "outputs": [
    {
     "data": {
      "text/plain": [
       "0             Front Office Coordinator\n",
       "1      Customer Service Representative\n",
       "2     Police Communications Specialist\n",
       "3    Office Services \\/ Mail Associate\n",
       "4            Full-Time Store Associate\n",
       "Name: title, dtype: object"
      ]
     },
     "execution_count": 19,
     "metadata": {},
     "output_type": "execute_result"
    }
   ],
   "source": [
    "indeed_titles_df.head()"
   ]
  },
  {
   "cell_type": "code",
   "execution_count": 20,
   "metadata": {},
   "outputs": [],
   "source": [
    "tokenized_indeed_titles_list = [word_tokenize(title) for title in indeed_titles_df]"
   ]
  },
  {
   "cell_type": "code",
   "execution_count": 21,
   "metadata": {},
   "outputs": [
    {
     "data": {
      "text/plain": [
       "[['Front', 'Office', 'Coordinator'],\n",
       " ['Customer', 'Service', 'Representative'],\n",
       " ['Police', 'Communications', 'Specialist'],\n",
       " ['Office', 'Services', '\\\\/', 'Mail', 'Associate'],\n",
       " ['Full-Time', 'Store', 'Associate']]"
      ]
     },
     "execution_count": 21,
     "metadata": {},
     "output_type": "execute_result"
    }
   ],
   "source": [
    "tokenized_indeed_titles_list[:5]"
   ]
  },
  {
   "cell_type": "code",
   "execution_count": 22,
   "metadata": {},
   "outputs": [
    {
     "data": {
      "text/plain": [
       "8834"
      ]
     },
     "execution_count": 22,
     "metadata": {},
     "output_type": "execute_result"
    }
   ],
   "source": [
    "len(tokenized_indeed_titles_list)"
   ]
  },
  {
   "cell_type": "code",
   "execution_count": 23,
   "metadata": {},
   "outputs": [],
   "source": [
    "stopped_tokenized_indeed_titles_list = stop_tokenized_titles(tokenized_indeed_titles_list, stopwords_list)"
   ]
  },
  {
   "cell_type": "code",
   "execution_count": 24,
   "metadata": {},
   "outputs": [
    {
     "data": {
      "text/plain": [
       "8834"
      ]
     },
     "execution_count": 24,
     "metadata": {},
     "output_type": "execute_result"
    }
   ],
   "source": [
    "len(stopped_tokenized_indeed_titles_list)"
   ]
  },
  {
   "cell_type": "code",
   "execution_count": 25,
   "metadata": {},
   "outputs": [],
   "source": [
    "stopped_tokenized_indeed_titles_list = substitute_words(stopped_tokenized_indeed_titles_list)"
   ]
  },
  {
   "cell_type": "code",
   "execution_count": 26,
   "metadata": {},
   "outputs": [
    {
     "data": {
      "text/plain": [
       "[['front', 'office', 'coordinator'],\n",
       " ['customer', 'service', 'representative'],\n",
       " ['police', 'communications', 'specialist'],\n",
       " ['office', 'service', 'mail', 'associate'],\n",
       " ['store', 'associate']]"
      ]
     },
     "execution_count": 26,
     "metadata": {},
     "output_type": "execute_result"
    }
   ],
   "source": [
    "stopped_tokenized_indeed_titles_list[:5]"
   ]
  },
  {
   "cell_type": "code",
   "execution_count": 27,
   "metadata": {},
   "outputs": [
    {
     "data": {
      "text/plain": [
       "8834"
      ]
     },
     "execution_count": 27,
     "metadata": {},
     "output_type": "execute_result"
    }
   ],
   "source": [
    "len(stopped_tokenized_indeed_titles_list)"
   ]
  },
  {
   "cell_type": "code",
   "execution_count": 28,
   "metadata": {},
   "outputs": [],
   "source": [
    "indeed_titles_list = []\n",
    "for tokenized_title in stopped_tokenized_indeed_titles_list:\n",
    "    title = ''\n",
    "    for token in tokenized_title:\n",
    "        title += token + ' '\n",
    "    indeed_titles_list.append(title.rstrip())"
   ]
  },
  {
   "cell_type": "code",
   "execution_count": 29,
   "metadata": {},
   "outputs": [
    {
     "data": {
      "text/plain": [
       "['front office coordinator',\n",
       " 'customer service representative',\n",
       " 'police communications specialist',\n",
       " 'office service mail associate',\n",
       " 'store associate']"
      ]
     },
     "execution_count": 29,
     "metadata": {},
     "output_type": "execute_result"
    }
   ],
   "source": [
    "indeed_titles_list[:5]"
   ]
  },
  {
   "cell_type": "code",
   "execution_count": 30,
   "metadata": {},
   "outputs": [
    {
     "data": {
      "text/plain": [
       "8834"
      ]
     },
     "execution_count": 30,
     "metadata": {},
     "output_type": "execute_result"
    }
   ],
   "source": [
    "len(indeed_titles_list)"
   ]
  },
  {
   "cell_type": "code",
   "execution_count": 31,
   "metadata": {},
   "outputs": [],
   "source": [
    "indeed_titles_df = pd.DataFrame(indeed_titles_list)"
   ]
  },
  {
   "cell_type": "code",
   "execution_count": 32,
   "metadata": {},
   "outputs": [],
   "source": [
    "indeed_titles_df = indeed_titles_df.drop_duplicates()"
   ]
  },
  {
   "cell_type": "code",
   "execution_count": 33,
   "metadata": {},
   "outputs": [
    {
     "data": {
      "text/plain": [
       "(5499, 1)"
      ]
     },
     "execution_count": 33,
     "metadata": {},
     "output_type": "execute_result"
    }
   ],
   "source": [
    "indeed_titles_df.shape"
   ]
  },
  {
   "cell_type": "code",
   "execution_count": 34,
   "metadata": {},
   "outputs": [
    {
     "data": {
      "text/html": [
       "<div>\n",
       "<style scoped>\n",
       "    .dataframe tbody tr th:only-of-type {\n",
       "        vertical-align: middle;\n",
       "    }\n",
       "\n",
       "    .dataframe tbody tr th {\n",
       "        vertical-align: top;\n",
       "    }\n",
       "\n",
       "    .dataframe thead th {\n",
       "        text-align: right;\n",
       "    }\n",
       "</style>\n",
       "<table border=\"1\" class=\"dataframe\">\n",
       "  <thead>\n",
       "    <tr style=\"text-align: right;\">\n",
       "      <th></th>\n",
       "      <th>0</th>\n",
       "    </tr>\n",
       "  </thead>\n",
       "  <tbody>\n",
       "    <tr>\n",
       "      <td>0</td>\n",
       "      <td>front office coordinator</td>\n",
       "    </tr>\n",
       "    <tr>\n",
       "      <td>1</td>\n",
       "      <td>customer service representative</td>\n",
       "    </tr>\n",
       "    <tr>\n",
       "      <td>2</td>\n",
       "      <td>police communications specialist</td>\n",
       "    </tr>\n",
       "    <tr>\n",
       "      <td>3</td>\n",
       "      <td>office service mail associate</td>\n",
       "    </tr>\n",
       "    <tr>\n",
       "      <td>4</td>\n",
       "      <td>store associate</td>\n",
       "    </tr>\n",
       "  </tbody>\n",
       "</table>\n",
       "</div>"
      ],
      "text/plain": [
       "                                  0\n",
       "0          front office coordinator\n",
       "1   customer service representative\n",
       "2  police communications specialist\n",
       "3     office service mail associate\n",
       "4                   store associate"
      ]
     },
     "execution_count": 34,
     "metadata": {},
     "output_type": "execute_result"
    }
   ],
   "source": [
    "indeed_titles_df.head()"
   ]
  },
  {
   "cell_type": "code",
   "execution_count": 35,
   "metadata": {},
   "outputs": [],
   "source": [
    "stopped_tokenized_indeed_titles_list = [word_tokenize(title) for title in indeed_titles_df.iloc[:, 0]]"
   ]
  },
  {
   "cell_type": "code",
   "execution_count": 36,
   "metadata": {},
   "outputs": [
    {
     "data": {
      "text/plain": [
       "[['front', 'office', 'coordinator'],\n",
       " ['customer', 'service', 'representative'],\n",
       " ['police', 'communications', 'specialist'],\n",
       " ['office', 'service', 'mail', 'associate'],\n",
       " ['store', 'associate']]"
      ]
     },
     "execution_count": 36,
     "metadata": {},
     "output_type": "execute_result"
    }
   ],
   "source": [
    "stopped_tokenized_indeed_titles_list[:5]"
   ]
  },
  {
   "cell_type": "code",
   "execution_count": 37,
   "metadata": {},
   "outputs": [
    {
     "data": {
      "text/plain": [
       "5499"
      ]
     },
     "execution_count": 37,
     "metadata": {},
     "output_type": "execute_result"
    }
   ],
   "source": [
    "len(stopped_tokenized_indeed_titles_list)"
   ]
  },
  {
   "cell_type": "markdown",
   "metadata": {},
   "source": [
    "### Modeling\n"
   ]
  },
  {
   "cell_type": "code",
   "execution_count": 57,
   "metadata": {},
   "outputs": [],
   "source": [
    "%run soc_classification.py"
   ]
  },
  {
   "cell_type": "code",
   "execution_count": 39,
   "metadata": {},
   "outputs": [],
   "source": [
    "corpus_list = stopped_tokenized_indeed_titles_list + stopped_tokenized_soc_titles_list"
   ]
  },
  {
   "cell_type": "code",
   "execution_count": 527,
   "metadata": {},
   "outputs": [],
   "source": [
    "dim = 600\n",
    "wsize = 2\n",
    "mcount = 3\n",
    "epoch = 20\n",
    "a = 0.0001\n",
    "model = Word2Vec(corpus_list, \n",
    "                 size = dim, \n",
    "                 window = wsize, \n",
    "                 min_count = mcount, \n",
    "                 iter = epoch,\n",
    "                 alpha = a,\n",
    "                 workers = multiprocessing.cpu_count())\n",
    "model.train(corpus_list, total_examples = model.corpus_count, epochs = model.epochs)\n",
    "wv = model.wv"
   ]
  },
  {
   "cell_type": "code",
   "execution_count": 355,
   "metadata": {},
   "outputs": [
    {
     "data": {
      "text/plain": [
       "[('retail', 0.9704826474189758),\n",
       " ('sale', 0.9648263454437256),\n",
       " ('guest', 0.9467342495918274),\n",
       " ('account', 0.9463907480239868),\n",
       " ('service', 0.9447579383850098),\n",
       " ('food', 0.9430411458015442),\n",
       " ('tsr', 0.9411400556564331),\n",
       " ('representative', 0.9409863948822021),\n",
       " ('store', 0.9352807998657227),\n",
       " ('sales', 0.9347476363182068)]"
      ]
     },
     "execution_count": 355,
     "metadata": {},
     "output_type": "execute_result"
    }
   ],
   "source": [
    "wv.most_similar('customer')"
   ]
  },
  {
   "cell_type": "code",
   "execution_count": 263,
   "metadata": {},
   "outputs": [
    {
     "data": {
      "text/plain": [
       "[('assurance', 0.9761399626731873),\n",
       " ('network', 0.971688985824585),\n",
       " ('security', 0.9659345149993896),\n",
       " ('quality', 0.9646139740943909),\n",
       " ('lab', 0.962565541267395),\n",
       " ('management', 0.9619563817977905),\n",
       " ('intelligence', 0.9584349393844604),\n",
       " ('gis', 0.9551427364349365),\n",
       " ('protection', 0.9545958042144775),\n",
       " ('operations', 0.9539693593978882)]"
      ]
     },
     "execution_count": 263,
     "metadata": {},
     "output_type": "execute_result"
    }
   ],
   "source": [
    "wv.most_similar('data')"
   ]
  },
  {
   "cell_type": "code",
   "execution_count": 284,
   "metadata": {},
   "outputs": [],
   "source": [
    "vectorized_indeed_titles_list = vectorize_title(wv, dim, stopped_tokenized_indeed_titles_list)"
   ]
  },
  {
   "cell_type": "code",
   "execution_count": 232,
   "metadata": {},
   "outputs": [
    {
     "data": {
      "text/plain": [
       "5499"
      ]
     },
     "execution_count": 232,
     "metadata": {},
     "output_type": "execute_result"
    }
   ],
   "source": [
    "len(vectorized_indeed_titles_list)"
   ]
  },
  {
   "cell_type": "code",
   "execution_count": 510,
   "metadata": {},
   "outputs": [],
   "source": [
    "vectorized_soc_titles_list = vectorize_title(wv, dim, stopped_tokenized_soc_titles_list)"
   ]
  },
  {
   "cell_type": "code",
   "execution_count": 234,
   "metadata": {},
   "outputs": [
    {
     "data": {
      "text/plain": [
       "40221"
      ]
     },
     "execution_count": 234,
     "metadata": {},
     "output_type": "execute_result"
    }
   ],
   "source": [
    "len(vectorized_soc_titles_list)"
   ]
  },
  {
   "cell_type": "code",
   "execution_count": 235,
   "metadata": {},
   "outputs": [],
   "source": [
    "similarity_matrix = distance.cdist(vectorized_indeed_titles_list, vectorized_soc_titles_list, 'cosine')"
   ]
  },
  {
   "cell_type": "code",
   "execution_count": 77,
   "metadata": {},
   "outputs": [
    {
     "data": {
      "text/plain": [
       "(5499, 40221)"
      ]
     },
     "execution_count": 77,
     "metadata": {},
     "output_type": "execute_result"
    }
   ],
   "source": [
    "similarity_matrix.shape"
   ]
  },
  {
   "cell_type": "code",
   "execution_count": 105,
   "metadata": {},
   "outputs": [
    {
     "data": {
      "text/plain": [
       "array([0.1826299 , 0.23561255, 0.4054996 , ..., 0.62479005, 0.17248713,\n",
       "       0.23750251])"
      ]
     },
     "execution_count": 105,
     "metadata": {},
     "output_type": "execute_result"
    }
   ],
   "source": [
    "similarity_matrix[0]"
   ]
  },
  {
   "cell_type": "code",
   "execution_count": 236,
   "metadata": {},
   "outputs": [],
   "source": [
    "similarity_matrix = 1 - similarity_matrix"
   ]
  },
  {
   "cell_type": "code",
   "execution_count": 107,
   "metadata": {},
   "outputs": [
    {
     "data": {
      "text/plain": [
       "array([0.8173701 , 0.76438745, 0.5945004 , ..., 0.37520995, 0.82751287,\n",
       "       0.76249749])"
      ]
     },
     "execution_count": 107,
     "metadata": {},
     "output_type": "execute_result"
    }
   ],
   "source": [
    "similarity_matrix[0]"
   ]
  },
  {
   "cell_type": "code",
   "execution_count": 237,
   "metadata": {},
   "outputs": [],
   "source": [
    "masked_similarity_matrix = np.ma.masked_invalid(similarity_matrix)"
   ]
  },
  {
   "cell_type": "code",
   "execution_count": 109,
   "metadata": {},
   "outputs": [
    {
     "data": {
      "text/plain": [
       "masked_array(data=[0.8173701 , 0.76438745, 0.5945004 , ..., 0.37520995,\n",
       "                   0.82751287, 0.76249749],\n",
       "             mask=False,\n",
       "       fill_value=nan)"
      ]
     },
     "execution_count": 109,
     "metadata": {},
     "output_type": "execute_result"
    }
   ],
   "source": [
    "masked_similarity_matrix[0]"
   ]
  },
  {
   "cell_type": "code",
   "execution_count": 238,
   "metadata": {},
   "outputs": [],
   "source": [
    "max_similarity_list = np.amax(masked_similarity_matrix, axis = 1)"
   ]
  },
  {
   "cell_type": "code",
   "execution_count": 117,
   "metadata": {},
   "outputs": [
    {
     "data": {
      "text/plain": [
       "masked_array(data=[1.0, 0.9999999999999999, 0.9977303617895377,\n",
       "                   0.9904795308458327, 0.9958900753024992,\n",
       "                   0.9975540127829251, 0.9997086807851735,\n",
       "                   0.9926173237671049, 0.9930601174248639,\n",
       "                   0.9998682610920837],\n",
       "             mask=[False, False, False, False, False, False, False, False,\n",
       "                   False, False],\n",
       "       fill_value=1e+20)"
      ]
     },
     "execution_count": 117,
     "metadata": {},
     "output_type": "execute_result"
    }
   ],
   "source": [
    "max_similarity_list[:10]"
   ]
  },
  {
   "cell_type": "code",
   "execution_count": 118,
   "metadata": {},
   "outputs": [
    {
     "data": {
      "text/plain": [
       "(5499,)"
      ]
     },
     "execution_count": 118,
     "metadata": {},
     "output_type": "execute_result"
    }
   ],
   "source": [
    "max_similarity_list.shape"
   ]
  },
  {
   "cell_type": "code",
   "execution_count": 239,
   "metadata": {},
   "outputs": [],
   "source": [
    "max_similarity_index_list = np.argmax(masked_similarity_matrix, axis = 1)"
   ]
  },
  {
   "cell_type": "code",
   "execution_count": 121,
   "metadata": {},
   "outputs": [
    {
     "data": {
      "text/plain": [
       "array([20917, 25118, 16233, 20107, 20674, 22249, 12633, 18650,  8556,\n",
       "       20649])"
      ]
     },
     "execution_count": 121,
     "metadata": {},
     "output_type": "execute_result"
    }
   ],
   "source": [
    "max_similarity_index_list[:10]"
   ]
  },
  {
   "cell_type": "code",
   "execution_count": 140,
   "metadata": {},
   "outputs": [
    {
     "data": {
      "text/plain": [
       "(5499,)"
      ]
     },
     "execution_count": 140,
     "metadata": {},
     "output_type": "execute_result"
    }
   ],
   "source": [
    "max_similarity_index_list.shape"
   ]
  },
  {
   "cell_type": "code",
   "execution_count": 129,
   "metadata": {},
   "outputs": [],
   "source": [
    "a = np.array([1, 2, np.nan, 3])"
   ]
  },
  {
   "cell_type": "code",
   "execution_count": 130,
   "metadata": {},
   "outputs": [],
   "source": [
    "ma = np.ma.masked_invalid(a)"
   ]
  },
  {
   "cell_type": "code",
   "execution_count": 131,
   "metadata": {},
   "outputs": [
    {
     "data": {
      "text/plain": [
       "masked_array(data=[1.0, 2.0, --, 3.0],\n",
       "             mask=[False, False,  True, False],\n",
       "       fill_value=1e+20)"
      ]
     },
     "execution_count": 131,
     "metadata": {},
     "output_type": "execute_result"
    }
   ],
   "source": [
    "ma"
   ]
  },
  {
   "cell_type": "code",
   "execution_count": 132,
   "metadata": {},
   "outputs": [],
   "source": [
    "i = np.argmax(ma)"
   ]
  },
  {
   "cell_type": "code",
   "execution_count": 133,
   "metadata": {},
   "outputs": [
    {
     "data": {
      "text/plain": [
       "3"
      ]
     },
     "execution_count": 133,
     "metadata": {},
     "output_type": "execute_result"
    }
   ],
   "source": [
    "i"
   ]
  },
  {
   "cell_type": "code",
   "execution_count": 134,
   "metadata": {},
   "outputs": [],
   "source": [
    "indeed_titles_list = []\n",
    "for tokenized_title in stopped_tokenized_indeed_titles_list:\n",
    "    title = ''\n",
    "    for token in tokenized_title:\n",
    "        title += token + ' '\n",
    "    indeed_titles_list.append(title.rstrip())"
   ]
  },
  {
   "cell_type": "code",
   "execution_count": 135,
   "metadata": {},
   "outputs": [
    {
     "data": {
      "text/plain": [
       "['front office coordinator',\n",
       " 'customer service representative',\n",
       " 'police communications specialist',\n",
       " 'office service mail associate',\n",
       " 'store associate']"
      ]
     },
     "execution_count": 135,
     "metadata": {},
     "output_type": "execute_result"
    }
   ],
   "source": [
    "indeed_titles_list[:5]"
   ]
  },
  {
   "cell_type": "code",
   "execution_count": 136,
   "metadata": {},
   "outputs": [
    {
     "data": {
      "text/plain": [
       "5499"
      ]
     },
     "execution_count": 136,
     "metadata": {},
     "output_type": "execute_result"
    }
   ],
   "source": [
    "len(indeed_titles_list)"
   ]
  },
  {
   "cell_type": "code",
   "execution_count": 137,
   "metadata": {},
   "outputs": [],
   "source": [
    "soc_titles_list = []\n",
    "for tokenized_title in stopped_tokenized_soc_titles_list:\n",
    "    title = ''\n",
    "    for token in tokenized_title:\n",
    "        title += token + ' '\n",
    "    soc_titles_list.append(title.rstrip())"
   ]
  },
  {
   "cell_type": "code",
   "execution_count": 138,
   "metadata": {},
   "outputs": [
    {
     "data": {
      "text/plain": [
       "['ceo',\n",
       " 'chief executive officer',\n",
       " 'chief operating officer',\n",
       " 'commissioner internal revenue',\n",
       " 'coo']"
      ]
     },
     "execution_count": 138,
     "metadata": {},
     "output_type": "execute_result"
    }
   ],
   "source": [
    "soc_titles_list[:5]"
   ]
  },
  {
   "cell_type": "code",
   "execution_count": 139,
   "metadata": {},
   "outputs": [
    {
     "data": {
      "text/plain": [
       "40221"
      ]
     },
     "execution_count": 139,
     "metadata": {},
     "output_type": "execute_result"
    }
   ],
   "source": [
    "len(soc_titles_list)"
   ]
  },
  {
   "cell_type": "code",
   "execution_count": 175,
   "metadata": {},
   "outputs": [],
   "source": [
    "df = pd.DataFrame({'indeed title': indeed_titles_list,\n",
    "                   'soc title': v,\n",
    "                   'soc code': y,\n",
    "                   'cosine score': max_similarity_list})"
   ]
  },
  {
   "cell_type": "code",
   "execution_count": 142,
   "metadata": {},
   "outputs": [],
   "source": [
    "v = []\n",
    "for i in max_similarity_index_list:\n",
    "    try:\n",
    "        v.append(soc_titles_list[i])\n",
    "    except:\n",
    "        print(soc_titles_list[i])"
   ]
  },
  {
   "cell_type": "code",
   "execution_count": 170,
   "metadata": {},
   "outputs": [
    {
     "data": {
      "text/plain": [
       "20917"
      ]
     },
     "execution_count": 170,
     "metadata": {},
     "output_type": "execute_result"
    }
   ],
   "source": [
    "max_similarity_index_list[0]"
   ]
  },
  {
   "cell_type": "code",
   "execution_count": 172,
   "metadata": {},
   "outputs": [
    {
     "data": {
      "text/plain": [
       "title        CEO\n",
       "soc_6    11-1011\n",
       "Name: 0, dtype: object"
      ]
     },
     "execution_count": 172,
     "metadata": {},
     "output_type": "execute_result"
    }
   ],
   "source": [
    "soc_titles_df.iloc[0]"
   ]
  },
  {
   "cell_type": "code",
   "execution_count": 173,
   "metadata": {},
   "outputs": [],
   "source": [
    "y = []\n",
    "for i in max_similarity_index_list:\n",
    "    try:\n",
    "        y.append(soc_titles_df.iloc[i].soc_6)\n",
    "    except:\n",
    "        print(soc_titles_df.iloc[i].soc_6)"
   ]
  },
  {
   "cell_type": "code",
   "execution_count": 174,
   "metadata": {},
   "outputs": [
    {
     "data": {
      "text/plain": [
       "5499"
      ]
     },
     "execution_count": 174,
     "metadata": {},
     "output_type": "execute_result"
    }
   ],
   "source": [
    "len(y)"
   ]
  },
  {
   "cell_type": "code",
   "execution_count": 176,
   "metadata": {},
   "outputs": [
    {
     "data": {
      "text/html": [
       "<div>\n",
       "<style scoped>\n",
       "    .dataframe tbody tr th:only-of-type {\n",
       "        vertical-align: middle;\n",
       "    }\n",
       "\n",
       "    .dataframe tbody tr th {\n",
       "        vertical-align: top;\n",
       "    }\n",
       "\n",
       "    .dataframe thead th {\n",
       "        text-align: right;\n",
       "    }\n",
       "</style>\n",
       "<table border=\"1\" class=\"dataframe\">\n",
       "  <thead>\n",
       "    <tr style=\"text-align: right;\">\n",
       "      <th></th>\n",
       "      <th>indeed title</th>\n",
       "      <th>soc title</th>\n",
       "      <th>soc code</th>\n",
       "      <th>cosine score</th>\n",
       "    </tr>\n",
       "  </thead>\n",
       "  <tbody>\n",
       "    <tr>\n",
       "      <td>0</td>\n",
       "      <td>front office coordinator</td>\n",
       "      <td>front office coordinator</td>\n",
       "      <td>43-6013</td>\n",
       "      <td>1.000000</td>\n",
       "    </tr>\n",
       "    <tr>\n",
       "      <td>1</td>\n",
       "      <td>customer service representative</td>\n",
       "      <td>customer service representative</td>\n",
       "      <td>49-9031</td>\n",
       "      <td>1.000000</td>\n",
       "    </tr>\n",
       "    <tr>\n",
       "      <td>2</td>\n",
       "      <td>police communications specialist</td>\n",
       "      <td>radiation protection specialist</td>\n",
       "      <td>29-9011</td>\n",
       "      <td>0.997730</td>\n",
       "    </tr>\n",
       "    <tr>\n",
       "      <td>3</td>\n",
       "      <td>office service mail associate</td>\n",
       "      <td>library customer service clerk</td>\n",
       "      <td>43-4121</td>\n",
       "      <td>0.990480</td>\n",
       "    </tr>\n",
       "    <tr>\n",
       "      <td>4</td>\n",
       "      <td>store associate</td>\n",
       "      <td>store marketing associate ism associate</td>\n",
       "      <td>43-5081</td>\n",
       "      <td>0.995890</td>\n",
       "    </tr>\n",
       "    <tr>\n",
       "      <td>...</td>\n",
       "      <td>...</td>\n",
       "      <td>...</td>\n",
       "      <td>...</td>\n",
       "      <td>...</td>\n",
       "    </tr>\n",
       "    <tr>\n",
       "      <td>95</td>\n",
       "      <td>investigation specialist</td>\n",
       "      <td>activity specialist</td>\n",
       "      <td>39-9032</td>\n",
       "      <td>0.999643</td>\n",
       "    </tr>\n",
       "    <tr>\n",
       "      <td>96</td>\n",
       "      <td>bookseller textbooks temp howard university bo...</td>\n",
       "      <td>university archivist</td>\n",
       "      <td>25-4011</td>\n",
       "      <td>0.999646</td>\n",
       "    </tr>\n",
       "    <tr>\n",
       "      <td>97</td>\n",
       "      <td>busser</td>\n",
       "      <td>busser</td>\n",
       "      <td>35-9011</td>\n",
       "      <td>1.000000</td>\n",
       "    </tr>\n",
       "    <tr>\n",
       "      <td>98</td>\n",
       "      <td>mail courier driver</td>\n",
       "      <td>city route driver</td>\n",
       "      <td>53-3031</td>\n",
       "      <td>0.999209</td>\n",
       "    </tr>\n",
       "    <tr>\n",
       "      <td>99</td>\n",
       "      <td>event staff</td>\n",
       "      <td>event staff</td>\n",
       "      <td>39-3031</td>\n",
       "      <td>1.000000</td>\n",
       "    </tr>\n",
       "  </tbody>\n",
       "</table>\n",
       "<p>100 rows × 4 columns</p>\n",
       "</div>"
      ],
      "text/plain": [
       "                                         indeed title  \\\n",
       "0                            front office coordinator   \n",
       "1                     customer service representative   \n",
       "2                    police communications specialist   \n",
       "3                       office service mail associate   \n",
       "4                                     store associate   \n",
       "..                                                ...   \n",
       "95                           investigation specialist   \n",
       "96  bookseller textbooks temp howard university bo...   \n",
       "97                                             busser   \n",
       "98                                mail courier driver   \n",
       "99                                        event staff   \n",
       "\n",
       "                                  soc title soc code  cosine score  \n",
       "0                  front office coordinator  43-6013      1.000000  \n",
       "1           customer service representative  49-9031      1.000000  \n",
       "2           radiation protection specialist  29-9011      0.997730  \n",
       "3            library customer service clerk  43-4121      0.990480  \n",
       "4   store marketing associate ism associate  43-5081      0.995890  \n",
       "..                                      ...      ...           ...  \n",
       "95                      activity specialist  39-9032      0.999643  \n",
       "96                     university archivist  25-4011      0.999646  \n",
       "97                                   busser  35-9011      1.000000  \n",
       "98                        city route driver  53-3031      0.999209  \n",
       "99                              event staff  39-3031      1.000000  \n",
       "\n",
       "[100 rows x 4 columns]"
      ]
     },
     "execution_count": 176,
     "metadata": {},
     "output_type": "execute_result"
    }
   ],
   "source": [
    "df.head(100)"
   ]
  },
  {
   "cell_type": "markdown",
   "metadata": {},
   "source": [
    "### Testing"
   ]
  },
  {
   "cell_type": "code",
   "execution_count": 182,
   "metadata": {},
   "outputs": [],
   "source": [
    "test_df = pd.read_csv('47900_test.csv')"
   ]
  },
  {
   "cell_type": "code",
   "execution_count": 184,
   "metadata": {},
   "outputs": [
    {
     "name": "stdout",
     "output_type": "stream",
     "text": [
      "<class 'pandas.core.frame.DataFrame'>\n",
      "RangeIndex: 200 entries, 0 to 199\n",
      "Data columns (total 22 columns):\n",
      "Unnamed: 0        200 non-null int64\n",
      "_id               200 non-null object\n",
      "jk                200 non-null object\n",
      "efccid            199 non-null object\n",
      "srcid             200 non-null object\n",
      "cmpid             200 non-null object\n",
      "num               200 non-null int64\n",
      "srcname           200 non-null object\n",
      "cmp               185 non-null object\n",
      "cmpesc            185 non-null object\n",
      "cmplnk            179 non-null object\n",
      "loc               179 non-null object\n",
      "country           178 non-null object\n",
      "zip               78 non-null float64\n",
      "city              174 non-null object\n",
      "title             200 non-null object\n",
      "locid             176 non-null object\n",
      "rd                176 non-null object\n",
      "date              200 non-null object\n",
      "msa               200 non-null int64\n",
      "SOC_title_2010    190 non-null object\n",
      "SOC_2010          190 non-null object\n",
      "dtypes: float64(1), int64(3), object(18)\n",
      "memory usage: 34.5+ KB\n"
     ]
    }
   ],
   "source": [
    "test_df.info()"
   ]
  },
  {
   "cell_type": "code",
   "execution_count": 185,
   "metadata": {},
   "outputs": [],
   "source": [
    "test_df = test_df.dropna(subset = ['title'])"
   ]
  },
  {
   "cell_type": "code",
   "execution_count": 186,
   "metadata": {},
   "outputs": [
    {
     "data": {
      "text/plain": [
       "(200, 22)"
      ]
     },
     "execution_count": 186,
     "metadata": {},
     "output_type": "execute_result"
    }
   ],
   "source": [
    "test_df.shape"
   ]
  },
  {
   "cell_type": "code",
   "execution_count": 187,
   "metadata": {},
   "outputs": [],
   "source": [
    "test_titles_df = test_df.title"
   ]
  },
  {
   "cell_type": "code",
   "execution_count": 188,
   "metadata": {},
   "outputs": [],
   "source": [
    "tokenized_test_titles_list = [word_tokenize(title) for title in test_titles_df]"
   ]
  },
  {
   "cell_type": "code",
   "execution_count": 189,
   "metadata": {},
   "outputs": [],
   "source": [
    "stopped_tokenized_test_titles_list = stop_tokenized_titles(tokenized_test_titles_list, stopwords_list)"
   ]
  },
  {
   "cell_type": "code",
   "execution_count": 190,
   "metadata": {},
   "outputs": [],
   "source": [
    "stopped_tokenized_test_titles_list = substitute_words(stopped_tokenized_test_titles_list)"
   ]
  },
  {
   "cell_type": "code",
   "execution_count": 191,
   "metadata": {},
   "outputs": [
    {
     "data": {
      "text/plain": [
       "200"
      ]
     },
     "execution_count": 191,
     "metadata": {},
     "output_type": "execute_result"
    }
   ],
   "source": [
    "len(stopped_tokenized_test_titles_list)"
   ]
  },
  {
   "cell_type": "markdown",
   "metadata": {},
   "source": [
    "Below is the test pipeline to:\n",
    "\n",
    "* Vectorize tokenized and stopped job titles in the test data;\n",
    "* Compute cosine similarity scores vis-a-vis the SOC-coded job titles;\n",
    "* Match each job title from the test data to the SOC-coded job title with the highest similarity score; and\n",
    "* Compute accuracy metrics for 2-digit and 6-digit SOC codes."
   ]
  },
  {
   "cell_type": "code",
   "execution_count": 511,
   "metadata": {},
   "outputs": [],
   "source": [
    "vectorized_test_titles_list = vectorize_title(wv, dim, stopped_tokenized_test_titles_list)"
   ]
  },
  {
   "cell_type": "code",
   "execution_count": 512,
   "metadata": {},
   "outputs": [],
   "source": [
    "similarity_matrix = 1 - distance.cdist(vectorized_test_titles_list, vectorized_soc_titles_list, 'cosine')"
   ]
  },
  {
   "cell_type": "code",
   "execution_count": 513,
   "metadata": {},
   "outputs": [],
   "source": [
    "masked_similarity_matrix = np.ma.masked_invalid(similarity_matrix)"
   ]
  },
  {
   "cell_type": "code",
   "execution_count": 514,
   "metadata": {},
   "outputs": [],
   "source": [
    "max_similarity_list = np.amax(masked_similarity_matrix, axis = 1)"
   ]
  },
  {
   "cell_type": "code",
   "execution_count": 515,
   "metadata": {},
   "outputs": [],
   "source": [
    "max_similarity_index_list = np.argmax(masked_similarity_matrix, axis = 1)"
   ]
  },
  {
   "cell_type": "code",
   "execution_count": 516,
   "metadata": {},
   "outputs": [],
   "source": [
    "v = []\n",
    "for i in max_similarity_index_list:\n",
    "    try:\n",
    "        v.append(soc_titles_list[i])\n",
    "    except:\n",
    "        print(soc_titles_list[i])"
   ]
  },
  {
   "cell_type": "code",
   "execution_count": 517,
   "metadata": {},
   "outputs": [],
   "source": [
    "y = []\n",
    "for i in max_similarity_index_list:\n",
    "    try:\n",
    "        y.append(soc_titles_df.iloc[i].soc_6)\n",
    "    except:\n",
    "        print(soc_titles_df.iloc[i].soc_6)"
   ]
  },
  {
   "cell_type": "code",
   "execution_count": 518,
   "metadata": {},
   "outputs": [],
   "source": [
    "df = pd.DataFrame({'test title': test_df.title,\n",
    "                   'test soc code': test_df.SOC_2010,\n",
    "                   'soc title': v,\n",
    "                   'soc code': y,\n",
    "                   'cosine score': max_similarity_list})"
   ]
  },
  {
   "cell_type": "code",
   "execution_count": 528,
   "metadata": {},
   "outputs": [
    {
     "data": {
      "text/html": [
       "<div>\n",
       "<style scoped>\n",
       "    .dataframe tbody tr th:only-of-type {\n",
       "        vertical-align: middle;\n",
       "    }\n",
       "\n",
       "    .dataframe tbody tr th {\n",
       "        vertical-align: top;\n",
       "    }\n",
       "\n",
       "    .dataframe thead th {\n",
       "        text-align: right;\n",
       "    }\n",
       "</style>\n",
       "<table border=\"1\" class=\"dataframe\">\n",
       "  <thead>\n",
       "    <tr style=\"text-align: right;\">\n",
       "      <th></th>\n",
       "      <th>test title</th>\n",
       "      <th>test soc code</th>\n",
       "      <th>soc title</th>\n",
       "      <th>soc code</th>\n",
       "      <th>cosine score</th>\n",
       "      <th>label_2</th>\n",
       "      <th>label_6</th>\n",
       "      <th>soc_2</th>\n",
       "      <th>soc_6</th>\n",
       "    </tr>\n",
       "  </thead>\n",
       "  <tbody>\n",
       "    <tr>\n",
       "      <td>170</td>\n",
       "      <td>Spa Concierge at a Luxury Day Spa</td>\n",
       "      <td>39-6010</td>\n",
       "      <td>day spa manager</td>\n",
       "      <td>39-1021</td>\n",
       "      <td>0.661977</td>\n",
       "      <td>39</td>\n",
       "      <td>39-6010</td>\n",
       "      <td>39</td>\n",
       "      <td>39-1020</td>\n",
       "    </tr>\n",
       "    <tr>\n",
       "      <td>171</td>\n",
       "      <td>Bookkeeping Assistant</td>\n",
       "      <td>43-3030</td>\n",
       "      <td>bookkeeping assistant</td>\n",
       "      <td>43-3021</td>\n",
       "      <td>1.000000</td>\n",
       "      <td>43</td>\n",
       "      <td>43-3030</td>\n",
       "      <td>43</td>\n",
       "      <td>43-3020</td>\n",
       "    </tr>\n",
       "    <tr>\n",
       "      <td>172</td>\n",
       "      <td>Busboys and Poets Hyattsville - Food Preparati...</td>\n",
       "      <td>35-9090</td>\n",
       "      <td>food preparation worker</td>\n",
       "      <td>35-2021</td>\n",
       "      <td>0.760179</td>\n",
       "      <td>35</td>\n",
       "      <td>35-9090</td>\n",
       "      <td>35</td>\n",
       "      <td>35-2020</td>\n",
       "    </tr>\n",
       "    <tr>\n",
       "      <td>173</td>\n",
       "      <td>Dispatcher</td>\n",
       "      <td>43-5030</td>\n",
       "      <td>dispatcher</td>\n",
       "      <td>43-5031</td>\n",
       "      <td>1.000000</td>\n",
       "      <td>43</td>\n",
       "      <td>43-5030</td>\n",
       "      <td>43</td>\n",
       "      <td>43-5030</td>\n",
       "    </tr>\n",
       "    <tr>\n",
       "      <td>174</td>\n",
       "      <td>Restaurant Team Member - Crew (1579 - CityVista)</td>\n",
       "      <td>35-3030</td>\n",
       "      <td>restaurant team member</td>\n",
       "      <td>35-3021</td>\n",
       "      <td>0.875010</td>\n",
       "      <td>35</td>\n",
       "      <td>35-3030</td>\n",
       "      <td>35</td>\n",
       "      <td>35-3020</td>\n",
       "    </tr>\n",
       "    <tr>\n",
       "      <td>175</td>\n",
       "      <td>Service Desk - Overnight</td>\n",
       "      <td>43-4170</td>\n",
       "      <td>desk monitor</td>\n",
       "      <td>39-3091</td>\n",
       "      <td>0.557692</td>\n",
       "      <td>43</td>\n",
       "      <td>43-4170</td>\n",
       "      <td>39</td>\n",
       "      <td>39-3090</td>\n",
       "    </tr>\n",
       "    <tr>\n",
       "      <td>176</td>\n",
       "      <td>Engineering Technician</td>\n",
       "      <td>17-3020</td>\n",
       "      <td>engineering technician</td>\n",
       "      <td>17-3029</td>\n",
       "      <td>1.000000</td>\n",
       "      <td>17</td>\n",
       "      <td>17-3020</td>\n",
       "      <td>17</td>\n",
       "      <td>17-3020</td>\n",
       "    </tr>\n",
       "    <tr>\n",
       "      <td>177</td>\n",
       "      <td>Spanish FLES Teacher, ES</td>\n",
       "      <td>25-2020</td>\n",
       "      <td>barbering teacher</td>\n",
       "      <td>25-1194</td>\n",
       "      <td>0.720723</td>\n",
       "      <td>25</td>\n",
       "      <td>25-2020</td>\n",
       "      <td>25</td>\n",
       "      <td>25-1190</td>\n",
       "    </tr>\n",
       "    <tr>\n",
       "      <td>178</td>\n",
       "      <td>Dish</td>\n",
       "      <td>35-9020</td>\n",
       "      <td>dish washer</td>\n",
       "      <td>35-9021</td>\n",
       "      <td>0.713782</td>\n",
       "      <td>35</td>\n",
       "      <td>35-9020</td>\n",
       "      <td>35</td>\n",
       "      <td>35-9020</td>\n",
       "    </tr>\n",
       "    <tr>\n",
       "      <td>179</td>\n",
       "      <td>16523 - Investigator - GS-15</td>\n",
       "      <td>13-1030</td>\n",
       "      <td>epidemiology investigator</td>\n",
       "      <td>19-1041</td>\n",
       "      <td>1.000000</td>\n",
       "      <td>13</td>\n",
       "      <td>13-1030</td>\n",
       "      <td>19</td>\n",
       "      <td>19-1040</td>\n",
       "    </tr>\n",
       "    <tr>\n",
       "      <td>180</td>\n",
       "      <td>Logistician - Junior</td>\n",
       "      <td>13-1080</td>\n",
       "      <td>junior software developer</td>\n",
       "      <td>15-1131</td>\n",
       "      <td>0.550205</td>\n",
       "      <td>13</td>\n",
       "      <td>13-1080</td>\n",
       "      <td>15</td>\n",
       "      <td>15-1130</td>\n",
       "    </tr>\n",
       "    <tr>\n",
       "      <td>181</td>\n",
       "      <td>Maintenance Person</td>\n",
       "      <td>37-2010</td>\n",
       "      <td>maintenance person</td>\n",
       "      <td>49-9071</td>\n",
       "      <td>1.000000</td>\n",
       "      <td>37</td>\n",
       "      <td>37-2010</td>\n",
       "      <td>49</td>\n",
       "      <td>49-9070</td>\n",
       "    </tr>\n",
       "    <tr>\n",
       "      <td>182</td>\n",
       "      <td>FAMILY READINESS SERVICES SECTION HEAD NF5</td>\n",
       "      <td>11-9190</td>\n",
       "      <td>family service aide</td>\n",
       "      <td>21-1093</td>\n",
       "      <td>0.538628</td>\n",
       "      <td>11</td>\n",
       "      <td>11-9190</td>\n",
       "      <td>21</td>\n",
       "      <td>21-1090</td>\n",
       "    </tr>\n",
       "    <tr>\n",
       "      <td>183</td>\n",
       "      <td>Classroom Curriculum Developer (REQ 19-3297)</td>\n",
       "      <td>25-9090</td>\n",
       "      <td>school curriculum developer</td>\n",
       "      <td>25-9031</td>\n",
       "      <td>0.638147</td>\n",
       "      <td>25</td>\n",
       "      <td>25-9090</td>\n",
       "      <td>25</td>\n",
       "      <td>25-9030</td>\n",
       "    </tr>\n",
       "    <tr>\n",
       "      <td>184</td>\n",
       "      <td>Strategy Consultant</td>\n",
       "      <td>13-1190</td>\n",
       "      <td>contamination consultant</td>\n",
       "      <td>11-9199</td>\n",
       "      <td>0.708287</td>\n",
       "      <td>13</td>\n",
       "      <td>13-1190</td>\n",
       "      <td>11</td>\n",
       "      <td>11-9190</td>\n",
       "    </tr>\n",
       "    <tr>\n",
       "      <td>185</td>\n",
       "      <td>Logistics Analyst</td>\n",
       "      <td>13-1080</td>\n",
       "      <td>logistics analyst</td>\n",
       "      <td>13-1081</td>\n",
       "      <td>1.000000</td>\n",
       "      <td>13</td>\n",
       "      <td>13-1080</td>\n",
       "      <td>13</td>\n",
       "      <td>13-1080</td>\n",
       "    </tr>\n",
       "    <tr>\n",
       "      <td>186</td>\n",
       "      <td>Merchandise and Stocking Associate</td>\n",
       "      <td>43-5080</td>\n",
       "      <td>merchandise associate</td>\n",
       "      <td>27-1026</td>\n",
       "      <td>0.817301</td>\n",
       "      <td>43</td>\n",
       "      <td>43-5080</td>\n",
       "      <td>27</td>\n",
       "      <td>27-1020</td>\n",
       "    </tr>\n",
       "    <tr>\n",
       "      <td>187</td>\n",
       "      <td>Law Clerk</td>\n",
       "      <td>23-1010</td>\n",
       "      <td>summer law clerk</td>\n",
       "      <td>23-2011</td>\n",
       "      <td>0.835113</td>\n",
       "      <td>23</td>\n",
       "      <td>23-1010</td>\n",
       "      <td>23</td>\n",
       "      <td>23-2010</td>\n",
       "    </tr>\n",
       "    <tr>\n",
       "      <td>188</td>\n",
       "      <td>SUPERVISORY FINANCIAL MANAGEMENT ANALYST</td>\n",
       "      <td>13-2050</td>\n",
       "      <td>management analyst</td>\n",
       "      <td>13-1111</td>\n",
       "      <td>0.738802</td>\n",
       "      <td>13</td>\n",
       "      <td>13-2050</td>\n",
       "      <td>13</td>\n",
       "      <td>13-1110</td>\n",
       "    </tr>\n",
       "    <tr>\n",
       "      <td>189</td>\n",
       "      <td>Grassroots Marketing &amp;amp</td>\n",
       "      <td>13-1160</td>\n",
       "      <td>marketing</td>\n",
       "      <td>11-2021</td>\n",
       "      <td>0.696452</td>\n",
       "      <td>13</td>\n",
       "      <td>13-1160</td>\n",
       "      <td>11</td>\n",
       "      <td>11-2020</td>\n",
       "    </tr>\n",
       "    <tr>\n",
       "      <td>190</td>\n",
       "      <td>Bartender</td>\n",
       "      <td>35-3010</td>\n",
       "      <td>bartender</td>\n",
       "      <td>35-3011</td>\n",
       "      <td>1.000000</td>\n",
       "      <td>35</td>\n",
       "      <td>35-3010</td>\n",
       "      <td>35</td>\n",
       "      <td>35-3010</td>\n",
       "    </tr>\n",
       "    <tr>\n",
       "      <td>191</td>\n",
       "      <td>Guest Experience Representative</td>\n",
       "      <td>39-9090</td>\n",
       "      <td>guest experience captain</td>\n",
       "      <td>39-1021</td>\n",
       "      <td>0.683128</td>\n",
       "      <td>39</td>\n",
       "      <td>39-9090</td>\n",
       "      <td>39</td>\n",
       "      <td>39-1020</td>\n",
       "    </tr>\n",
       "    <tr>\n",
       "      <td>192</td>\n",
       "      <td>College Success Coach</td>\n",
       "      <td>39-9090</td>\n",
       "      <td>college coach</td>\n",
       "      <td>27-2022</td>\n",
       "      <td>0.801340</td>\n",
       "      <td>39</td>\n",
       "      <td>39-9090</td>\n",
       "      <td>27</td>\n",
       "      <td>27-2020</td>\n",
       "    </tr>\n",
       "    <tr>\n",
       "      <td>193</td>\n",
       "      <td>Sales Representative - Hendrick Honda</td>\n",
       "      <td>41-4010</td>\n",
       "      <td>fundraising sale representative</td>\n",
       "      <td>13-1131</td>\n",
       "      <td>0.597341</td>\n",
       "      <td>41</td>\n",
       "      <td>41-4010</td>\n",
       "      <td>13</td>\n",
       "      <td>13-1130</td>\n",
       "    </tr>\n",
       "    <tr>\n",
       "      <td>194</td>\n",
       "      <td>Restaurant Team Member</td>\n",
       "      <td>35-3030</td>\n",
       "      <td>restaurant team member</td>\n",
       "      <td>35-3021</td>\n",
       "      <td>1.000000</td>\n",
       "      <td>35</td>\n",
       "      <td>35-3030</td>\n",
       "      <td>35</td>\n",
       "      <td>35-3020</td>\n",
       "    </tr>\n",
       "    <tr>\n",
       "      <td>195</td>\n",
       "      <td>Concierge</td>\n",
       "      <td>39-6010</td>\n",
       "      <td>concierge</td>\n",
       "      <td>39-6012</td>\n",
       "      <td>1.000000</td>\n",
       "      <td>39</td>\n",
       "      <td>39-6010</td>\n",
       "      <td>39</td>\n",
       "      <td>39-6010</td>\n",
       "    </tr>\n",
       "    <tr>\n",
       "      <td>196</td>\n",
       "      <td>Client Service Representative</td>\n",
       "      <td>43-4050</td>\n",
       "      <td>manufacturers service representative</td>\n",
       "      <td>49-9041</td>\n",
       "      <td>0.823983</td>\n",
       "      <td>43</td>\n",
       "      <td>43-4050</td>\n",
       "      <td>49</td>\n",
       "      <td>49-9040</td>\n",
       "    </tr>\n",
       "    <tr>\n",
       "      <td>197</td>\n",
       "      <td>UNIT SECRETARY - Emergency Room</td>\n",
       "      <td>43-6010</td>\n",
       "      <td>emergency room</td>\n",
       "      <td>29-1141</td>\n",
       "      <td>0.729298</td>\n",
       "      <td>43</td>\n",
       "      <td>43-6010</td>\n",
       "      <td>29</td>\n",
       "      <td>29-1140</td>\n",
       "    </tr>\n",
       "    <tr>\n",
       "      <td>198</td>\n",
       "      <td>Warehouse Specialist</td>\n",
       "      <td>43-5080</td>\n",
       "      <td>warehouse specialist</td>\n",
       "      <td>43-5081</td>\n",
       "      <td>1.000000</td>\n",
       "      <td>43</td>\n",
       "      <td>43-5080</td>\n",
       "      <td>43</td>\n",
       "      <td>43-5080</td>\n",
       "    </tr>\n",
       "    <tr>\n",
       "      <td>199</td>\n",
       "      <td>Food Runner Hiring Event</td>\n",
       "      <td>35-3030</td>\n",
       "      <td>food order delivery runner</td>\n",
       "      <td>35-3041</td>\n",
       "      <td>0.496686</td>\n",
       "      <td>35</td>\n",
       "      <td>35-3030</td>\n",
       "      <td>35</td>\n",
       "      <td>35-3040</td>\n",
       "    </tr>\n",
       "  </tbody>\n",
       "</table>\n",
       "</div>"
      ],
      "text/plain": [
       "                                            test title test soc code  \\\n",
       "170                  Spa Concierge at a Luxury Day Spa       39-6010   \n",
       "171                              Bookkeeping Assistant       43-3030   \n",
       "172  Busboys and Poets Hyattsville - Food Preparati...       35-9090   \n",
       "173                                         Dispatcher       43-5030   \n",
       "174   Restaurant Team Member - Crew (1579 - CityVista)       35-3030   \n",
       "175                           Service Desk - Overnight       43-4170   \n",
       "176                             Engineering Technician       17-3020   \n",
       "177                           Spanish FLES Teacher, ES       25-2020   \n",
       "178                                               Dish       35-9020   \n",
       "179                       16523 - Investigator - GS-15       13-1030   \n",
       "180                               Logistician - Junior       13-1080   \n",
       "181                                 Maintenance Person       37-2010   \n",
       "182         FAMILY READINESS SERVICES SECTION HEAD NF5       11-9190   \n",
       "183       Classroom Curriculum Developer (REQ 19-3297)       25-9090   \n",
       "184                                Strategy Consultant       13-1190   \n",
       "185                                  Logistics Analyst       13-1080   \n",
       "186                 Merchandise and Stocking Associate       43-5080   \n",
       "187                                          Law Clerk       23-1010   \n",
       "188           SUPERVISORY FINANCIAL MANAGEMENT ANALYST       13-2050   \n",
       "189                          Grassroots Marketing &amp       13-1160   \n",
       "190                                          Bartender       35-3010   \n",
       "191                    Guest Experience Representative       39-9090   \n",
       "192                              College Success Coach       39-9090   \n",
       "193              Sales Representative - Hendrick Honda       41-4010   \n",
       "194                             Restaurant Team Member       35-3030   \n",
       "195                                          Concierge       39-6010   \n",
       "196                      Client Service Representative       43-4050   \n",
       "197                    UNIT SECRETARY - Emergency Room       43-6010   \n",
       "198                               Warehouse Specialist       43-5080   \n",
       "199                           Food Runner Hiring Event       35-3030   \n",
       "\n",
       "                                soc title soc code  cosine score label_2  \\\n",
       "170                       day spa manager  39-1021      0.661977      39   \n",
       "171                 bookkeeping assistant  43-3021      1.000000      43   \n",
       "172               food preparation worker  35-2021      0.760179      35   \n",
       "173                            dispatcher  43-5031      1.000000      43   \n",
       "174                restaurant team member  35-3021      0.875010      35   \n",
       "175                          desk monitor  39-3091      0.557692      43   \n",
       "176                engineering technician  17-3029      1.000000      17   \n",
       "177                     barbering teacher  25-1194      0.720723      25   \n",
       "178                           dish washer  35-9021      0.713782      35   \n",
       "179             epidemiology investigator  19-1041      1.000000      13   \n",
       "180             junior software developer  15-1131      0.550205      13   \n",
       "181                    maintenance person  49-9071      1.000000      37   \n",
       "182                   family service aide  21-1093      0.538628      11   \n",
       "183           school curriculum developer  25-9031      0.638147      25   \n",
       "184              contamination consultant  11-9199      0.708287      13   \n",
       "185                     logistics analyst  13-1081      1.000000      13   \n",
       "186                 merchandise associate  27-1026      0.817301      43   \n",
       "187                      summer law clerk  23-2011      0.835113      23   \n",
       "188                    management analyst  13-1111      0.738802      13   \n",
       "189                             marketing  11-2021      0.696452      13   \n",
       "190                             bartender  35-3011      1.000000      35   \n",
       "191              guest experience captain  39-1021      0.683128      39   \n",
       "192                         college coach  27-2022      0.801340      39   \n",
       "193       fundraising sale representative  13-1131      0.597341      41   \n",
       "194                restaurant team member  35-3021      1.000000      35   \n",
       "195                             concierge  39-6012      1.000000      39   \n",
       "196  manufacturers service representative  49-9041      0.823983      43   \n",
       "197                        emergency room  29-1141      0.729298      43   \n",
       "198                  warehouse specialist  43-5081      1.000000      43   \n",
       "199            food order delivery runner  35-3041      0.496686      35   \n",
       "\n",
       "     label_6 soc_2    soc_6  \n",
       "170  39-6010    39  39-1020  \n",
       "171  43-3030    43  43-3020  \n",
       "172  35-9090    35  35-2020  \n",
       "173  43-5030    43  43-5030  \n",
       "174  35-3030    35  35-3020  \n",
       "175  43-4170    39  39-3090  \n",
       "176  17-3020    17  17-3020  \n",
       "177  25-2020    25  25-1190  \n",
       "178  35-9020    35  35-9020  \n",
       "179  13-1030    19  19-1040  \n",
       "180  13-1080    15  15-1130  \n",
       "181  37-2010    49  49-9070  \n",
       "182  11-9190    21  21-1090  \n",
       "183  25-9090    25  25-9030  \n",
       "184  13-1190    11  11-9190  \n",
       "185  13-1080    13  13-1080  \n",
       "186  43-5080    27  27-1020  \n",
       "187  23-1010    23  23-2010  \n",
       "188  13-2050    13  13-1110  \n",
       "189  13-1160    11  11-2020  \n",
       "190  35-3010    35  35-3010  \n",
       "191  39-9090    39  39-1020  \n",
       "192  39-9090    27  27-2020  \n",
       "193  41-4010    13  13-1130  \n",
       "194  35-3030    35  35-3020  \n",
       "195  39-6010    39  39-6010  \n",
       "196  43-4050    49  49-9040  \n",
       "197  43-6010    29  29-1140  \n",
       "198  43-5080    43  43-5080  \n",
       "199  35-3030    35  35-3040  "
      ]
     },
     "execution_count": 528,
     "metadata": {},
     "output_type": "execute_result"
    }
   ],
   "source": [
    "df[170:200]"
   ]
  },
  {
   "cell_type": "code",
   "execution_count": 520,
   "metadata": {},
   "outputs": [],
   "source": [
    "df['label_2'] = [str(code)[0:2] for code in df['test soc code'] if code != None]"
   ]
  },
  {
   "cell_type": "code",
   "execution_count": 521,
   "metadata": {},
   "outputs": [],
   "source": [
    "df['label_6'] = [str(code)[0:6]+'0' for code in df['test soc code'] if code != None]"
   ]
  },
  {
   "cell_type": "code",
   "execution_count": 522,
   "metadata": {},
   "outputs": [],
   "source": [
    "df['soc_2'] = [str(code)[0:2] for code in df['soc code'] if code != None]"
   ]
  },
  {
   "cell_type": "code",
   "execution_count": 523,
   "metadata": {},
   "outputs": [],
   "source": [
    "df['soc_6'] = [str(code)[0:6]+'0' for code in df['soc code'] if code != None]"
   ]
  },
  {
   "cell_type": "code",
   "execution_count": 524,
   "metadata": {},
   "outputs": [
    {
     "data": {
      "text/plain": [
       "0.265"
      ]
     },
     "execution_count": 524,
     "metadata": {},
     "output_type": "execute_result"
    }
   ],
   "source": [
    "df.loc[df.label_6 == df.soc_6].count()['test title'] / 200"
   ]
  },
  {
   "cell_type": "code",
   "execution_count": 525,
   "metadata": {},
   "outputs": [
    {
     "data": {
      "text/plain": [
       "0.49"
      ]
     },
     "execution_count": 525,
     "metadata": {},
     "output_type": "execute_result"
    }
   ],
   "source": [
    "df.loc[df.label_2 == df.soc_2].count()['test title'] / 200"
   ]
  },
  {
   "cell_type": "code",
   "execution_count": 301,
   "metadata": {},
   "outputs": [
    {
     "data": {
      "text/html": [
       "<div>\n",
       "<style scoped>\n",
       "    .dataframe tbody tr th:only-of-type {\n",
       "        vertical-align: middle;\n",
       "    }\n",
       "\n",
       "    .dataframe tbody tr th {\n",
       "        vertical-align: top;\n",
       "    }\n",
       "\n",
       "    .dataframe thead th {\n",
       "        text-align: right;\n",
       "    }\n",
       "</style>\n",
       "<table border=\"1\" class=\"dataframe\">\n",
       "  <thead>\n",
       "    <tr style=\"text-align: right;\">\n",
       "      <th></th>\n",
       "      <th>test title</th>\n",
       "      <th>test soc code</th>\n",
       "      <th>soc title</th>\n",
       "      <th>soc code</th>\n",
       "      <th>cosine score</th>\n",
       "      <th>label_2</th>\n",
       "      <th>label_6</th>\n",
       "      <th>soc_2</th>\n",
       "      <th>soc_6</th>\n",
       "    </tr>\n",
       "  </thead>\n",
       "  <tbody>\n",
       "    <tr>\n",
       "      <td>0</td>\n",
       "      <td>The Bizzelle Group Job Openings</td>\n",
       "      <td>NaN</td>\n",
       "      <td>choir accompanist</td>\n",
       "      <td>27-2042</td>\n",
       "      <td>0.998337</td>\n",
       "      <td>na</td>\n",
       "      <td>nan0</td>\n",
       "      <td>27</td>\n",
       "      <td>27-2040</td>\n",
       "    </tr>\n",
       "    <tr>\n",
       "      <td>1</td>\n",
       "      <td>Pavement Marking and Sign Operator</td>\n",
       "      <td>47-2070</td>\n",
       "      <td>color printer operator</td>\n",
       "      <td>51-9151</td>\n",
       "      <td>0.999906</td>\n",
       "      <td>47</td>\n",
       "      <td>47-2070</td>\n",
       "      <td>51</td>\n",
       "      <td>51-9150</td>\n",
       "    </tr>\n",
       "    <tr>\n",
       "      <td>2</td>\n",
       "      <td>Program Associate, YEAR Program</td>\n",
       "      <td>13-1190</td>\n",
       "      <td>environmental business development associate</td>\n",
       "      <td>19-2041</td>\n",
       "      <td>0.996578</td>\n",
       "      <td>13</td>\n",
       "      <td>13-1190</td>\n",
       "      <td>19</td>\n",
       "      <td>19-2040</td>\n",
       "    </tr>\n",
       "    <tr>\n",
       "      <td>3</td>\n",
       "      <td>AMP Host</td>\n",
       "      <td>39-3030</td>\n",
       "      <td>event host</td>\n",
       "      <td>27-3012</td>\n",
       "      <td>0.997654</td>\n",
       "      <td>39</td>\n",
       "      <td>39-3030</td>\n",
       "      <td>27</td>\n",
       "      <td>27-3010</td>\n",
       "    </tr>\n",
       "    <tr>\n",
       "      <td>4</td>\n",
       "      <td>Unarmed Security Officer</td>\n",
       "      <td>33-9030</td>\n",
       "      <td>campus security officer</td>\n",
       "      <td>33-9032</td>\n",
       "      <td>0.999020</td>\n",
       "      <td>33</td>\n",
       "      <td>33-9030</td>\n",
       "      <td>33</td>\n",
       "      <td>33-9030</td>\n",
       "    </tr>\n",
       "    <tr>\n",
       "      <td>...</td>\n",
       "      <td>...</td>\n",
       "      <td>...</td>\n",
       "      <td>...</td>\n",
       "      <td>...</td>\n",
       "      <td>...</td>\n",
       "      <td>...</td>\n",
       "      <td>...</td>\n",
       "      <td>...</td>\n",
       "      <td>...</td>\n",
       "    </tr>\n",
       "    <tr>\n",
       "      <td>195</td>\n",
       "      <td>Concierge</td>\n",
       "      <td>39-6010</td>\n",
       "      <td>concierge</td>\n",
       "      <td>39-6012</td>\n",
       "      <td>1.000000</td>\n",
       "      <td>39</td>\n",
       "      <td>39-6010</td>\n",
       "      <td>39</td>\n",
       "      <td>39-6010</td>\n",
       "    </tr>\n",
       "    <tr>\n",
       "      <td>196</td>\n",
       "      <td>Client Service Representative</td>\n",
       "      <td>43-4050</td>\n",
       "      <td>claim service representative</td>\n",
       "      <td>43-9041</td>\n",
       "      <td>0.999621</td>\n",
       "      <td>43</td>\n",
       "      <td>43-4050</td>\n",
       "      <td>43</td>\n",
       "      <td>43-9040</td>\n",
       "    </tr>\n",
       "    <tr>\n",
       "      <td>197</td>\n",
       "      <td>UNIT SECRETARY - Emergency Room</td>\n",
       "      <td>43-6010</td>\n",
       "      <td>emergency room orderly</td>\n",
       "      <td>31-1015</td>\n",
       "      <td>0.993650</td>\n",
       "      <td>43</td>\n",
       "      <td>43-6010</td>\n",
       "      <td>31</td>\n",
       "      <td>31-1010</td>\n",
       "    </tr>\n",
       "    <tr>\n",
       "      <td>198</td>\n",
       "      <td>Warehouse Specialist</td>\n",
       "      <td>43-5080</td>\n",
       "      <td>warehouse specialist</td>\n",
       "      <td>43-5081</td>\n",
       "      <td>1.000000</td>\n",
       "      <td>43</td>\n",
       "      <td>43-5080</td>\n",
       "      <td>43</td>\n",
       "      <td>43-5080</td>\n",
       "    </tr>\n",
       "    <tr>\n",
       "      <td>199</td>\n",
       "      <td>Food Runner Hiring Event</td>\n",
       "      <td>35-3030</td>\n",
       "      <td>beverage server</td>\n",
       "      <td>35-9011</td>\n",
       "      <td>0.996315</td>\n",
       "      <td>35</td>\n",
       "      <td>35-3030</td>\n",
       "      <td>35</td>\n",
       "      <td>35-9010</td>\n",
       "    </tr>\n",
       "  </tbody>\n",
       "</table>\n",
       "<p>200 rows × 9 columns</p>\n",
       "</div>"
      ],
      "text/plain": [
       "                             test title test soc code  \\\n",
       "0       The Bizzelle Group Job Openings           NaN   \n",
       "1    Pavement Marking and Sign Operator       47-2070   \n",
       "2       Program Associate, YEAR Program       13-1190   \n",
       "3                              AMP Host       39-3030   \n",
       "4              Unarmed Security Officer       33-9030   \n",
       "..                                  ...           ...   \n",
       "195                           Concierge       39-6010   \n",
       "196       Client Service Representative       43-4050   \n",
       "197     UNIT SECRETARY - Emergency Room       43-6010   \n",
       "198                Warehouse Specialist       43-5080   \n",
       "199            Food Runner Hiring Event       35-3030   \n",
       "\n",
       "                                        soc title soc code  cosine score  \\\n",
       "0                               choir accompanist  27-2042      0.998337   \n",
       "1                          color printer operator  51-9151      0.999906   \n",
       "2    environmental business development associate  19-2041      0.996578   \n",
       "3                                      event host  27-3012      0.997654   \n",
       "4                         campus security officer  33-9032      0.999020   \n",
       "..                                            ...      ...           ...   \n",
       "195                                     concierge  39-6012      1.000000   \n",
       "196                  claim service representative  43-9041      0.999621   \n",
       "197                        emergency room orderly  31-1015      0.993650   \n",
       "198                          warehouse specialist  43-5081      1.000000   \n",
       "199                               beverage server  35-9011      0.996315   \n",
       "\n",
       "    label_2  label_6 soc_2    soc_6  \n",
       "0        na     nan0    27  27-2040  \n",
       "1        47  47-2070    51  51-9150  \n",
       "2        13  13-1190    19  19-2040  \n",
       "3        39  39-3030    27  27-3010  \n",
       "4        33  33-9030    33  33-9030  \n",
       "..      ...      ...   ...      ...  \n",
       "195      39  39-6010    39  39-6010  \n",
       "196      43  43-4050    43  43-9040  \n",
       "197      43  43-6010    31  31-1010  \n",
       "198      43  43-5080    43  43-5080  \n",
       "199      35  35-3030    35  35-9010  \n",
       "\n",
       "[200 rows x 9 columns]"
      ]
     },
     "execution_count": 301,
     "metadata": {},
     "output_type": "execute_result"
    }
   ],
   "source": [
    "df"
   ]
  },
  {
   "cell_type": "code",
   "execution_count": 390,
   "metadata": {},
   "outputs": [
    {
     "data": {
      "text/html": [
       "<div>\n",
       "<style scoped>\n",
       "    .dataframe tbody tr th:only-of-type {\n",
       "        vertical-align: middle;\n",
       "    }\n",
       "\n",
       "    .dataframe tbody tr th {\n",
       "        vertical-align: top;\n",
       "    }\n",
       "\n",
       "    .dataframe thead th {\n",
       "        text-align: right;\n",
       "    }\n",
       "</style>\n",
       "<table border=\"1\" class=\"dataframe\">\n",
       "  <thead>\n",
       "    <tr style=\"text-align: right;\">\n",
       "      <th></th>\n",
       "      <th>test title</th>\n",
       "      <th>test soc code</th>\n",
       "      <th>soc title</th>\n",
       "      <th>soc code</th>\n",
       "      <th>cosine score</th>\n",
       "      <th>label_2</th>\n",
       "      <th>label_6</th>\n",
       "      <th>soc_2</th>\n",
       "      <th>soc_6</th>\n",
       "    </tr>\n",
       "  </thead>\n",
       "  <tbody>\n",
       "    <tr>\n",
       "      <td>0</td>\n",
       "      <td>The Bizzelle Group Job Openings</td>\n",
       "      <td>NaN</td>\n",
       "      <td>deputy attorney general</td>\n",
       "      <td>23-1011</td>\n",
       "      <td>0.997390</td>\n",
       "      <td>na</td>\n",
       "      <td>nan0</td>\n",
       "      <td>23</td>\n",
       "      <td>23-1010</td>\n",
       "    </tr>\n",
       "    <tr>\n",
       "      <td>1</td>\n",
       "      <td>Pavement Marking and Sign Operator</td>\n",
       "      <td>47-2070</td>\n",
       "      <td>rod tape operator</td>\n",
       "      <td>51-9199</td>\n",
       "      <td>0.999833</td>\n",
       "      <td>47</td>\n",
       "      <td>47-2070</td>\n",
       "      <td>51</td>\n",
       "      <td>51-9190</td>\n",
       "    </tr>\n",
       "    <tr>\n",
       "      <td>2</td>\n",
       "      <td>Program Associate, YEAR Program</td>\n",
       "      <td>13-1190</td>\n",
       "      <td>environmental business development associate</td>\n",
       "      <td>19-2041</td>\n",
       "      <td>0.995080</td>\n",
       "      <td>13</td>\n",
       "      <td>13-1190</td>\n",
       "      <td>19</td>\n",
       "      <td>19-2040</td>\n",
       "    </tr>\n",
       "    <tr>\n",
       "      <td>3</td>\n",
       "      <td>AMP Host</td>\n",
       "      <td>39-3030</td>\n",
       "      <td>event host</td>\n",
       "      <td>27-3012</td>\n",
       "      <td>0.996696</td>\n",
       "      <td>39</td>\n",
       "      <td>39-3030</td>\n",
       "      <td>27</td>\n",
       "      <td>27-3010</td>\n",
       "    </tr>\n",
       "    <tr>\n",
       "      <td>4</td>\n",
       "      <td>Unarmed Security Officer</td>\n",
       "      <td>33-9030</td>\n",
       "      <td>campus security officer</td>\n",
       "      <td>33-9032</td>\n",
       "      <td>0.999358</td>\n",
       "      <td>33</td>\n",
       "      <td>33-9030</td>\n",
       "      <td>33</td>\n",
       "      <td>33-9030</td>\n",
       "    </tr>\n",
       "    <tr>\n",
       "      <td>5</td>\n",
       "      <td>Customer Relations and Recovery Manager.</td>\n",
       "      <td>11-2000</td>\n",
       "      <td>salon customer experience specialist</td>\n",
       "      <td>39-5012</td>\n",
       "      <td>0.996989</td>\n",
       "      <td>11</td>\n",
       "      <td>11-2000</td>\n",
       "      <td>39</td>\n",
       "      <td>39-5010</td>\n",
       "    </tr>\n",
       "    <tr>\n",
       "      <td>6</td>\n",
       "      <td>Temporary Book Store Clerks</td>\n",
       "      <td>41-2020</td>\n",
       "      <td>grocery store courtesy clerk</td>\n",
       "      <td>53-7064</td>\n",
       "      <td>0.999179</td>\n",
       "      <td>41</td>\n",
       "      <td>41-2020</td>\n",
       "      <td>53</td>\n",
       "      <td>53-7060</td>\n",
       "    </tr>\n",
       "    <tr>\n",
       "      <td>7</td>\n",
       "      <td>PLANNER III</td>\n",
       "      <td>19-3051</td>\n",
       "      <td>facility planner</td>\n",
       "      <td>17-3022</td>\n",
       "      <td>0.999505</td>\n",
       "      <td>19</td>\n",
       "      <td>19-3050</td>\n",
       "      <td>17</td>\n",
       "      <td>17-3020</td>\n",
       "    </tr>\n",
       "    <tr>\n",
       "      <td>8</td>\n",
       "      <td>075 Sales Associate - Inbound Telephone</td>\n",
       "      <td>41-9040</td>\n",
       "      <td>retail commerce sales associate</td>\n",
       "      <td>13-1199</td>\n",
       "      <td>0.993990</td>\n",
       "      <td>41</td>\n",
       "      <td>41-9040</td>\n",
       "      <td>13</td>\n",
       "      <td>13-1190</td>\n",
       "    </tr>\n",
       "    <tr>\n",
       "      <td>9</td>\n",
       "      <td>Sales Assistant\\/Office Administrator - Join o...</td>\n",
       "      <td>43-6010</td>\n",
       "      <td>staff research associate</td>\n",
       "      <td>19-4021</td>\n",
       "      <td>0.980191</td>\n",
       "      <td>43</td>\n",
       "      <td>43-6010</td>\n",
       "      <td>19</td>\n",
       "      <td>19-4020</td>\n",
       "    </tr>\n",
       "    <tr>\n",
       "      <td>10</td>\n",
       "      <td>Carside To-Go Specialist</td>\n",
       "      <td>35-3020</td>\n",
       "      <td>dbms specialist</td>\n",
       "      <td>15-1141</td>\n",
       "      <td>1.000000</td>\n",
       "      <td>35</td>\n",
       "      <td>35-3020</td>\n",
       "      <td>15</td>\n",
       "      <td>15-1140</td>\n",
       "    </tr>\n",
       "    <tr>\n",
       "      <td>11</td>\n",
       "      <td>Receptionist \\/ PRN</td>\n",
       "      <td>43-4170</td>\n",
       "      <td>clinic receptionist</td>\n",
       "      <td>43-4171</td>\n",
       "      <td>0.999393</td>\n",
       "      <td>43</td>\n",
       "      <td>43-4170</td>\n",
       "      <td>43</td>\n",
       "      <td>43-4170</td>\n",
       "    </tr>\n",
       "    <tr>\n",
       "      <td>12</td>\n",
       "      <td>2020 Summer Games Internship</td>\n",
       "      <td>NaN</td>\n",
       "      <td>academic hospitalist</td>\n",
       "      <td>29-1069</td>\n",
       "      <td>0.999633</td>\n",
       "      <td>na</td>\n",
       "      <td>nan0</td>\n",
       "      <td>29</td>\n",
       "      <td>29-1060</td>\n",
       "    </tr>\n",
       "    <tr>\n",
       "      <td>13</td>\n",
       "      <td>Cashier \\/ Host \\/ Attendant</td>\n",
       "      <td>41-2010</td>\n",
       "      <td>parking lot attendant cashier</td>\n",
       "      <td>53-6021</td>\n",
       "      <td>0.996016</td>\n",
       "      <td>41</td>\n",
       "      <td>41-2010</td>\n",
       "      <td>53</td>\n",
       "      <td>53-6020</td>\n",
       "    </tr>\n",
       "    <tr>\n",
       "      <td>14</td>\n",
       "      <td>Server and Bartender</td>\n",
       "      <td>35-3010</td>\n",
       "      <td>cocktail server</td>\n",
       "      <td>35-3031</td>\n",
       "      <td>0.999608</td>\n",
       "      <td>35</td>\n",
       "      <td>35-3010</td>\n",
       "      <td>35</td>\n",
       "      <td>35-3030</td>\n",
       "    </tr>\n",
       "    <tr>\n",
       "      <td>15</td>\n",
       "      <td>Dental Receptionist</td>\n",
       "      <td>31-9090</td>\n",
       "      <td>dental receptionist</td>\n",
       "      <td>43-4171</td>\n",
       "      <td>1.000000</td>\n",
       "      <td>31</td>\n",
       "      <td>31-9090</td>\n",
       "      <td>43</td>\n",
       "      <td>43-4170</td>\n",
       "    </tr>\n",
       "    <tr>\n",
       "      <td>16</td>\n",
       "      <td>Customer Account Advisor</td>\n",
       "      <td>13-2050</td>\n",
       "      <td>customer advocate</td>\n",
       "      <td>43-4051</td>\n",
       "      <td>0.996489</td>\n",
       "      <td>13</td>\n",
       "      <td>13-2050</td>\n",
       "      <td>43</td>\n",
       "      <td>43-4050</td>\n",
       "    </tr>\n",
       "    <tr>\n",
       "      <td>17</td>\n",
       "      <td>Financial Analyst</td>\n",
       "      <td>13-2050</td>\n",
       "      <td>chartered financial analyst cfa</td>\n",
       "      <td>41-3031</td>\n",
       "      <td>1.000000</td>\n",
       "      <td>13</td>\n",
       "      <td>13-2050</td>\n",
       "      <td>41</td>\n",
       "      <td>41-3030</td>\n",
       "    </tr>\n",
       "    <tr>\n",
       "      <td>18</td>\n",
       "      <td>Retail Sales Associate - Apparel</td>\n",
       "      <td>41-2030</td>\n",
       "      <td>point sale associate</td>\n",
       "      <td>41-2011</td>\n",
       "      <td>0.997958</td>\n",
       "      <td>41</td>\n",
       "      <td>41-2030</td>\n",
       "      <td>41</td>\n",
       "      <td>41-2010</td>\n",
       "    </tr>\n",
       "    <tr>\n",
       "      <td>19</td>\n",
       "      <td>Medical Assistant\\/Medical Receptionist</td>\n",
       "      <td>31-9090</td>\n",
       "      <td>medical library assistant</td>\n",
       "      <td>43-4121</td>\n",
       "      <td>0.996386</td>\n",
       "      <td>31</td>\n",
       "      <td>31-9090</td>\n",
       "      <td>43</td>\n",
       "      <td>43-4120</td>\n",
       "    </tr>\n",
       "    <tr>\n",
       "      <td>20</td>\n",
       "      <td>Afterschool Coordinator</td>\n",
       "      <td>25-9090</td>\n",
       "      <td>credentialing coordinator</td>\n",
       "      <td>13-1071</td>\n",
       "      <td>1.000000</td>\n",
       "      <td>25</td>\n",
       "      <td>25-9090</td>\n",
       "      <td>13</td>\n",
       "      <td>13-1070</td>\n",
       "    </tr>\n",
       "    <tr>\n",
       "      <td>21</td>\n",
       "      <td>Server</td>\n",
       "      <td>35-3040</td>\n",
       "      <td>subpoena server</td>\n",
       "      <td>43-4031</td>\n",
       "      <td>1.000000</td>\n",
       "      <td>35</td>\n",
       "      <td>35-3040</td>\n",
       "      <td>43</td>\n",
       "      <td>43-4030</td>\n",
       "    </tr>\n",
       "    <tr>\n",
       "      <td>22</td>\n",
       "      <td>Scheduler/Customer Service Representative</td>\n",
       "      <td>43-4050</td>\n",
       "      <td>utilities customer service representative</td>\n",
       "      <td>43-4051</td>\n",
       "      <td>0.999633</td>\n",
       "      <td>43</td>\n",
       "      <td>43-4050</td>\n",
       "      <td>43</td>\n",
       "      <td>43-4050</td>\n",
       "    </tr>\n",
       "    <tr>\n",
       "      <td>23</td>\n",
       "      <td>Correctional Program Specialist (Site Selectio...</td>\n",
       "      <td>21-1090</td>\n",
       "      <td>supervisory training specialist</td>\n",
       "      <td>13-1151</td>\n",
       "      <td>0.998789</td>\n",
       "      <td>21</td>\n",
       "      <td>21-1090</td>\n",
       "      <td>13</td>\n",
       "      <td>13-1150</td>\n",
       "    </tr>\n",
       "    <tr>\n",
       "      <td>24</td>\n",
       "      <td>Desktop Support Specialist-Herndon</td>\n",
       "      <td>15-1150</td>\n",
       "      <td>desktop support specialist</td>\n",
       "      <td>15-1151</td>\n",
       "      <td>1.000000</td>\n",
       "      <td>15</td>\n",
       "      <td>15-1150</td>\n",
       "      <td>15</td>\n",
       "      <td>15-1150</td>\n",
       "    </tr>\n",
       "    <tr>\n",
       "      <td>25</td>\n",
       "      <td>Events Manager</td>\n",
       "      <td>13-1120</td>\n",
       "      <td>events manager</td>\n",
       "      <td>13-1121</td>\n",
       "      <td>1.000000</td>\n",
       "      <td>13</td>\n",
       "      <td>13-1120</td>\n",
       "      <td>13</td>\n",
       "      <td>13-1120</td>\n",
       "    </tr>\n",
       "    <tr>\n",
       "      <td>26</td>\n",
       "      <td>Teacher Assistant - Kindergarten</td>\n",
       "      <td>25-9040</td>\n",
       "      <td>early childhood teacher assistant teacher assi...</td>\n",
       "      <td>25-9041</td>\n",
       "      <td>0.999791</td>\n",
       "      <td>25</td>\n",
       "      <td>25-9040</td>\n",
       "      <td>25</td>\n",
       "      <td>25-9040</td>\n",
       "    </tr>\n",
       "    <tr>\n",
       "      <td>27</td>\n",
       "      <td>Administrative Specialist</td>\n",
       "      <td>43-9190</td>\n",
       "      <td>administrative specialist admin specialist</td>\n",
       "      <td>43-6014</td>\n",
       "      <td>0.995063</td>\n",
       "      <td>43</td>\n",
       "      <td>43-9190</td>\n",
       "      <td>43</td>\n",
       "      <td>43-6010</td>\n",
       "    </tr>\n",
       "    <tr>\n",
       "      <td>28</td>\n",
       "      <td>Bookkeeper</td>\n",
       "      <td>43-3030</td>\n",
       "      <td>bookkeeper</td>\n",
       "      <td>43-3031</td>\n",
       "      <td>1.000000</td>\n",
       "      <td>43</td>\n",
       "      <td>43-3030</td>\n",
       "      <td>43</td>\n",
       "      <td>43-3030</td>\n",
       "    </tr>\n",
       "    <tr>\n",
       "      <td>29</td>\n",
       "      <td>Maintenance Technician</td>\n",
       "      <td>49-9090</td>\n",
       "      <td>predictive maintenance technician</td>\n",
       "      <td>17-3029</td>\n",
       "      <td>1.000000</td>\n",
       "      <td>49</td>\n",
       "      <td>49-9090</td>\n",
       "      <td>17</td>\n",
       "      <td>17-3020</td>\n",
       "    </tr>\n",
       "  </tbody>\n",
       "</table>\n",
       "</div>"
      ],
      "text/plain": [
       "                                           test title test soc code  \\\n",
       "0                     The Bizzelle Group Job Openings           NaN   \n",
       "1                  Pavement Marking and Sign Operator       47-2070   \n",
       "2                     Program Associate, YEAR Program       13-1190   \n",
       "3                                            AMP Host       39-3030   \n",
       "4                            Unarmed Security Officer       33-9030   \n",
       "5            Customer Relations and Recovery Manager.       11-2000   \n",
       "6                         Temporary Book Store Clerks       41-2020   \n",
       "7                                         PLANNER III       19-3051   \n",
       "8             075 Sales Associate - Inbound Telephone       41-9040   \n",
       "9   Sales Assistant\\/Office Administrator - Join o...       43-6010   \n",
       "10                           Carside To-Go Specialist       35-3020   \n",
       "11                                Receptionist \\/ PRN       43-4170   \n",
       "12                       2020 Summer Games Internship           NaN   \n",
       "13                       Cashier \\/ Host \\/ Attendant       41-2010   \n",
       "14                               Server and Bartender       35-3010   \n",
       "15                                Dental Receptionist       31-9090   \n",
       "16                           Customer Account Advisor       13-2050   \n",
       "17                                  Financial Analyst       13-2050   \n",
       "18                   Retail Sales Associate - Apparel       41-2030   \n",
       "19            Medical Assistant\\/Medical Receptionist       31-9090   \n",
       "20                            Afterschool Coordinator       25-9090   \n",
       "21                                             Server       35-3040   \n",
       "22          Scheduler/Customer Service Representative       43-4050   \n",
       "23  Correctional Program Specialist (Site Selectio...       21-1090   \n",
       "24                 Desktop Support Specialist-Herndon       15-1150   \n",
       "25                                     Events Manager       13-1120   \n",
       "26                   Teacher Assistant - Kindergarten       25-9040   \n",
       "27                          Administrative Specialist       43-9190   \n",
       "28                                         Bookkeeper       43-3030   \n",
       "29                             Maintenance Technician       49-9090   \n",
       "\n",
       "                                            soc title soc code  cosine score  \\\n",
       "0                             deputy attorney general  23-1011      0.997390   \n",
       "1                                   rod tape operator  51-9199      0.999833   \n",
       "2        environmental business development associate  19-2041      0.995080   \n",
       "3                                          event host  27-3012      0.996696   \n",
       "4                             campus security officer  33-9032      0.999358   \n",
       "5                salon customer experience specialist  39-5012      0.996989   \n",
       "6                        grocery store courtesy clerk  53-7064      0.999179   \n",
       "7                                    facility planner  17-3022      0.999505   \n",
       "8                     retail commerce sales associate  13-1199      0.993990   \n",
       "9                            staff research associate  19-4021      0.980191   \n",
       "10                                    dbms specialist  15-1141      1.000000   \n",
       "11                                clinic receptionist  43-4171      0.999393   \n",
       "12                               academic hospitalist  29-1069      0.999633   \n",
       "13                      parking lot attendant cashier  53-6021      0.996016   \n",
       "14                                    cocktail server  35-3031      0.999608   \n",
       "15                                dental receptionist  43-4171      1.000000   \n",
       "16                                  customer advocate  43-4051      0.996489   \n",
       "17                    chartered financial analyst cfa  41-3031      1.000000   \n",
       "18                               point sale associate  41-2011      0.997958   \n",
       "19                          medical library assistant  43-4121      0.996386   \n",
       "20                          credentialing coordinator  13-1071      1.000000   \n",
       "21                                    subpoena server  43-4031      1.000000   \n",
       "22          utilities customer service representative  43-4051      0.999633   \n",
       "23                    supervisory training specialist  13-1151      0.998789   \n",
       "24                         desktop support specialist  15-1151      1.000000   \n",
       "25                                     events manager  13-1121      1.000000   \n",
       "26  early childhood teacher assistant teacher assi...  25-9041      0.999791   \n",
       "27         administrative specialist admin specialist  43-6014      0.995063   \n",
       "28                                         bookkeeper  43-3031      1.000000   \n",
       "29                  predictive maintenance technician  17-3029      1.000000   \n",
       "\n",
       "   label_2  label_6 soc_2    soc_6  \n",
       "0       na     nan0    23  23-1010  \n",
       "1       47  47-2070    51  51-9190  \n",
       "2       13  13-1190    19  19-2040  \n",
       "3       39  39-3030    27  27-3010  \n",
       "4       33  33-9030    33  33-9030  \n",
       "5       11  11-2000    39  39-5010  \n",
       "6       41  41-2020    53  53-7060  \n",
       "7       19  19-3050    17  17-3020  \n",
       "8       41  41-9040    13  13-1190  \n",
       "9       43  43-6010    19  19-4020  \n",
       "10      35  35-3020    15  15-1140  \n",
       "11      43  43-4170    43  43-4170  \n",
       "12      na     nan0    29  29-1060  \n",
       "13      41  41-2010    53  53-6020  \n",
       "14      35  35-3010    35  35-3030  \n",
       "15      31  31-9090    43  43-4170  \n",
       "16      13  13-2050    43  43-4050  \n",
       "17      13  13-2050    41  41-3030  \n",
       "18      41  41-2030    41  41-2010  \n",
       "19      31  31-9090    43  43-4120  \n",
       "20      25  25-9090    13  13-1070  \n",
       "21      35  35-3040    43  43-4030  \n",
       "22      43  43-4050    43  43-4050  \n",
       "23      21  21-1090    13  13-1150  \n",
       "24      15  15-1150    15  15-1150  \n",
       "25      13  13-1120    13  13-1120  \n",
       "26      25  25-9040    25  25-9040  \n",
       "27      43  43-9190    43  43-6010  \n",
       "28      43  43-3030    43  43-3030  \n",
       "29      49  49-9090    17  17-3020  "
      ]
     },
     "execution_count": 390,
     "metadata": {},
     "output_type": "execute_result"
    }
   ],
   "source": [
    "df[:30]"
   ]
  },
  {
   "cell_type": "code",
   "execution_count": null,
   "metadata": {},
   "outputs": [],
   "source": []
  }
 ],
 "metadata": {
  "kernelspec": {
   "display_name": "Python 3",
   "language": "python",
   "name": "python3"
  },
  "language_info": {
   "codemirror_mode": {
    "name": "ipython",
    "version": 3
   },
   "file_extension": ".py",
   "mimetype": "text/x-python",
   "name": "python",
   "nbconvert_exporter": "python",
   "pygments_lexer": "ipython3",
   "version": "3.7.4"
  }
 },
 "nbformat": 4,
 "nbformat_minor": 4
}
