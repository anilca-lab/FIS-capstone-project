{
 "cells": [
  {
   "cell_type": "markdown",
   "metadata": {},
   "source": [
    "# Occupations and Skills in Demand"
   ]
  },
  {
   "cell_type": "markdown",
   "metadata": {},
   "source": [
    "## Objective\n",
    "This project aims to develop a platform to continuously monitor online job vacancies across the U.S. and predict occupations and skills in demand by the employers and different industries. Such a platform would enhance the existing labor market indicators by providing a deeper and higher-frequency monitoring of labor demand. As a result, it would inform labor, education, and immigration policies and activities to develop and maintain a skilled workforce, which would, in the long run, contribute to income mobility and equality. \n",
    "\n",
    "Three organizations have developed similar platforms. The Conference Board uses online job postings from various portals and companies to publish monthly national and state-level vacancy indicators at the 2-digit Standard Occupational Classification (SOC) level. Florida Department of Economic Opportunity is one of the users of these indicators. A technical note that describes the Conference Board platform is available __[here](https://www.conference-board.org/pdf_free/press/2018%20HWOL%20Technical%20Note8.pdf)__. The Center for Urban Research at the City University of New York has designed a real-time labor market information system that scrapes private and public job boards on a daily basis and stores the data in searchable databases. A brief desciption of this system is available __[here](https://gc.cuny.edu/lmis/research/real_time#menu)__. __[The New Jersey state government](https://careerconnections.nj.gov/careerconnections/prepare/skills/demand/demand_occupations_list_methodology.shtml)__ is one of the users of this system. The Burning Glass Technologies delivers real-time job vacancies data and planning tools that inform careers, define academic programs, and shape workforces. A description of their offerings is __[here](https://www.burning-glass.com/research-project/skills-taxonomy/)__. The World Bank and the Government of Malaysia used their offerings to monitor in-demand occupations and skills in Malaysia."
   ]
  },
  {
   "cell_type": "markdown",
   "metadata": {},
   "source": [
    "## Methodology\n",
    "The project will follow a phased approach as outlined below:\n",
    "1. Occupational classification for DC metropolitan area with a single job portal\n",
    "2. Skills identification and clustering for DC metropolitan area with a single job portal\n",
    "3. Coverage of other metropolitan areas\n",
    "4. Coverage of other job portals\n",
    "\n",
    "Phase 1 will be based on job postings scraped from Indeed. Initially, job titles will be matched to 6-digit SOC titles using rules. For the unmatched job titles, a look-alike algorithm will be implemented using the job descriptions and SOC descriptions. Quality assurance will be done through the random selection of a small subset of the data and its manual labeling. Upon successful completion of this step, an algorithm will be developed for daily scraping of the data and its storage. A set of key indicators will also be designed together with their visualization. Phase 1 will be completed by January 24, 2020. \n",
    "\n",
    "The scope for Phase 2 is still open. One option is to cluster the job descriptions along several dimensions measuring various aspects of knowledge and skills. The second option is to match the occupations identified with phase 1 to different skills using __[ONet's existing classification](https://www.onetcenter.org/dataCollection.html)__.   "
   ]
  },
  {
   "cell_type": "markdown",
   "metadata": {},
   "source": [
    "## Data\n",
    "A preliminary round of data collection has already been completed. This data includes job postings from Indeed for Washington, DC. The data fields are date of collection, location, job title, company, job description, and salary (if provided)."
   ]
  },
  {
   "cell_type": "code",
   "execution_count": null,
   "metadata": {},
   "outputs": [],
   "source": []
  }
 ],
 "metadata": {
  "kernelspec": {
   "display_name": "Python 3",
   "language": "python",
   "name": "python3"
  },
  "language_info": {
   "codemirror_mode": {
    "name": "ipython",
    "version": 3
   },
   "file_extension": ".py",
   "mimetype": "text/x-python",
   "name": "python",
   "nbconvert_exporter": "python",
   "pygments_lexer": "ipython3",
   "version": "3.7.3"
  }
 },
 "nbformat": 4,
 "nbformat_minor": 2
}
